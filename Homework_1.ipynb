{
 "cells": [
  {
   "cell_type": "markdown",
   "id": "3b392cb3",
   "metadata": {},
   "source": [
    "# Homework №1 - Data collecting and cleansing"
   ]
  },
  {
   "cell_type": "markdown",
   "id": "c4c40d9d",
   "metadata": {},
   "source": [
    "## Data preparing"
   ]
  },
  {
   "cell_type": "code",
   "execution_count": 50,
   "id": "ea8e55f9",
   "metadata": {
    "ExecuteTime": {
     "end_time": "2023-03-04T19:23:10.598480Z",
     "start_time": "2023-03-04T19:23:10.580014Z"
    }
   },
   "outputs": [],
   "source": [
    "import pandas as pd\n",
    "import numpy as np\n",
    "import seaborn as sns\n",
    "import matplotlib.pyplot as plt\n",
    "import re\n",
    "import requests\n",
    "import time\n",
    "from typing import List\n",
    "from tqdm import tqdm_notebook"
   ]
  },
  {
   "cell_type": "code",
   "execution_count": 2,
   "id": "a7803b21",
   "metadata": {
    "ExecuteTime": {
     "end_time": "2023-03-04T17:07:52.008276Z",
     "start_time": "2023-03-04T17:07:51.884918Z"
    }
   },
   "outputs": [],
   "source": [
    "data = pd.read_csv('./data_2.csv', sep=',')"
   ]
  },
  {
   "cell_type": "code",
   "execution_count": 3,
   "id": "bf971f2d",
   "metadata": {
    "ExecuteTime": {
     "end_time": "2023-03-04T17:07:53.153523Z",
     "start_time": "2023-03-04T17:07:53.052182Z"
    },
    "scrolled": true
   },
   "outputs": [
    {
     "data": {
      "text/html": [
       "<div>\n",
       "<style scoped>\n",
       "    .dataframe tbody tr th:only-of-type {\n",
       "        vertical-align: middle;\n",
       "    }\n",
       "\n",
       "    .dataframe tbody tr th {\n",
       "        vertical-align: top;\n",
       "    }\n",
       "\n",
       "    .dataframe thead th {\n",
       "        text-align: right;\n",
       "    }\n",
       "</style>\n",
       "<table border=\"1\" class=\"dataframe\">\n",
       "  <thead>\n",
       "    <tr style=\"text-align: right;\">\n",
       "      <th></th>\n",
       "      <th>DOI</th>\n",
       "      <th>Date</th>\n",
       "      <th>Journal</th>\n",
       "      <th>Title</th>\n",
       "      <th>Name</th>\n",
       "      <th>measurement_error</th>\n",
       "      <th>measurement_wavelength</th>\n",
       "      <th>measurement_method</th>\n",
       "      <th>normalised_name</th>\n",
       "      <th>raw_value</th>\n",
       "      <th>specifier</th>\n",
       "    </tr>\n",
       "  </thead>\n",
       "  <tbody>\n",
       "    <tr>\n",
       "      <th>0</th>\n",
       "      <td>10.1016/j.optlaseng.2008.09.005</td>\n",
       "      <td>1/14/2009</td>\n",
       "      <td>Optics and Lasers in Engineering</td>\n",
       "      <td>AHIGHPRECISIONMEASUREMENTTECHNIQUEFOREVALUATIN...</td>\n",
       "      <td>Alcohol</td>\n",
       "      <td>0.00000</td>\n",
       "      <td>NaN</td>\n",
       "      <td>el_mylogic</td>\n",
       "      <td>CCO</td>\n",
       "      <td>1.34749</td>\n",
       "      <td>Refractive index (n)</td>\n",
       "    </tr>\n",
       "    <tr>\n",
       "      <th>1</th>\n",
       "      <td>10.1016/j.jiec.2018.12.038</td>\n",
       "      <td>12/29/2018</td>\n",
       "      <td>Journal of Industrial and Engineering Chemistry</td>\n",
       "      <td>IMPROVINGUNDERSTANDINGSOLVENTEFFECTSINTERMOLEC...</td>\n",
       "      <td>aceticacid</td>\n",
       "      <td>0.00000</td>\n",
       "      <td>NaN</td>\n",
       "      <td>el_mylogic</td>\n",
       "      <td>CC(O)=O</td>\n",
       "      <td>1.7</td>\n",
       "      <td>n</td>\n",
       "    </tr>\n",
       "    <tr>\n",
       "      <th>2</th>\n",
       "      <td>10.1016/j.jlumin.2015.02.010</td>\n",
       "      <td>2/14/2015</td>\n",
       "      <td>Journal of Luminescence</td>\n",
       "      <td>SPECTROSCOPICPROPERTIESTELLURITEGLASSESCODOPED...</td>\n",
       "      <td>Phosphate</td>\n",
       "      <td>0.00000</td>\n",
       "      <td>600 nm</td>\n",
       "      <td>el_mylogic</td>\n",
       "      <td>[O-][P]([O-])([O-])=O</td>\n",
       "      <td>1.54</td>\n",
       "      <td>Refractive index (~600 nm)</td>\n",
       "    </tr>\n",
       "    <tr>\n",
       "      <th>3</th>\n",
       "      <td>10.1039/B717069F_© The Royal Society of Chemis...</td>\n",
       "      <td>NaN</td>\n",
       "      <td>NaN</td>\n",
       "      <td>NaN</td>\n",
       "      <td>BK7</td>\n",
       "      <td>0.00000</td>\n",
       "      <td>NaN</td>\n",
       "      <td>snowball</td>\n",
       "      <td>NaN</td>\n",
       "      <td>1.518</td>\n",
       "      <td>refractive index</td>\n",
       "    </tr>\n",
       "    <tr>\n",
       "      <th>4</th>\n",
       "      <td>10.1529/biophysj.106.094946</td>\n",
       "      <td>10/23/2008</td>\n",
       "      <td>Biophysical Journal</td>\n",
       "      <td>QUANTITATIVECHARACTERIZATIONBIOLOGICALLIQUIDSF...</td>\n",
       "      <td>ethanol</td>\n",
       "      <td>0.00126</td>\n",
       "      <td>NaN</td>\n",
       "      <td>el_cde_text</td>\n",
       "      <td>CCO</td>\n",
       "      <td>1.35434 ± 0.00126</td>\n",
       "      <td>refractive index</td>\n",
       "    </tr>\n",
       "    <tr>\n",
       "      <th>...</th>\n",
       "      <td>...</td>\n",
       "      <td>...</td>\n",
       "      <td>...</td>\n",
       "      <td>...</td>\n",
       "      <td>...</td>\n",
       "      <td>...</td>\n",
       "      <td>...</td>\n",
       "      <td>...</td>\n",
       "      <td>...</td>\n",
       "      <td>...</td>\n",
       "      <td>...</td>\n",
       "    </tr>\n",
       "    <tr>\n",
       "      <th>4995</th>\n",
       "      <td>10.1016/j.sse.2007.06.004</td>\n",
       "      <td>7/30/2007</td>\n",
       "      <td>Solid-State Electronics</td>\n",
       "      <td>RADIATIVELINEWIDTHASINGLEIMPURITYMOLECULEINABI...</td>\n",
       "      <td>Biphenyl</td>\n",
       "      <td>0.00000</td>\n",
       "      <td>NaN</td>\n",
       "      <td>el_cde_tables</td>\n",
       "      <td>c1ccc(cc1)c2ccccc2</td>\n",
       "      <td>1.68</td>\n",
       "      <td>Refractive indices</td>\n",
       "    </tr>\n",
       "    <tr>\n",
       "      <th>4996</th>\n",
       "      <td>10.1039/B822982A</td>\n",
       "      <td>7/21/2009</td>\n",
       "      <td>Lab on a Chip</td>\n",
       "      <td>Tunable Liquid Gradient Refractive Index (L-GR...</td>\n",
       "      <td>CaCl2</td>\n",
       "      <td>0.00000</td>\n",
       "      <td>NaN</td>\n",
       "      <td>rsc_cde_text</td>\n",
       "      <td>[['Ca', 1.0], ['Cl', 2.0]]</td>\n",
       "      <td>∼1.41</td>\n",
       "      <td>nD</td>\n",
       "    </tr>\n",
       "    <tr>\n",
       "      <th>4997</th>\n",
       "      <td>10.1078/0030-4026-00175</td>\n",
       "      <td>11/5/2004</td>\n",
       "      <td>Optik</td>\n",
       "      <td>OPTIMIZATIONCONDUCTINGPOLYMERTHINFILMOPTICALEL...</td>\n",
       "      <td>He-Ne</td>\n",
       "      <td>0.00000</td>\n",
       "      <td>NaN</td>\n",
       "      <td>el_cde_text</td>\n",
       "      <td>[['He-', 1.0], ['Ne', 1.0]]</td>\n",
       "      <td>1.717</td>\n",
       "      <td>refractive index</td>\n",
       "    </tr>\n",
       "    <tr>\n",
       "      <th>4998</th>\n",
       "      <td>10.1016/j.optmat.2018.06.013</td>\n",
       "      <td>6/18/2018</td>\n",
       "      <td>Optical Materials</td>\n",
       "      <td>ENHANCEDPHOTOELECTRICPERFORMANCENANORODTIO2FIL...</td>\n",
       "      <td>ITO</td>\n",
       "      <td>0.00000</td>\n",
       "      <td>NaN</td>\n",
       "      <td>el_cde_text</td>\n",
       "      <td>[['IT', 1.0], ['O', 1.0]]</td>\n",
       "      <td>1.92</td>\n",
       "      <td>refractive index</td>\n",
       "    </tr>\n",
       "    <tr>\n",
       "      <th>4999</th>\n",
       "      <td>10.1016/S0042-207X(01)00296-2</td>\n",
       "      <td>12/17/2001</td>\n",
       "      <td>Vacuum</td>\n",
       "      <td>COMPOSITIONSTRUCTURESILICONCARBIDEALLOYSOBTAIN...</td>\n",
       "      <td>C2H4</td>\n",
       "      <td>0.00000</td>\n",
       "      <td>NaN</td>\n",
       "      <td>el_mylogic</td>\n",
       "      <td>[['C', 2.0], ['H', 4.0]]</td>\n",
       "      <td>2.9</td>\n",
       "      <td>n</td>\n",
       "    </tr>\n",
       "  </tbody>\n",
       "</table>\n",
       "<p>5000 rows × 11 columns</p>\n",
       "</div>"
      ],
      "text/plain": [
       "                                                    DOI        Date  \\\n",
       "0                       10.1016/j.optlaseng.2008.09.005   1/14/2009   \n",
       "1                            10.1016/j.jiec.2018.12.038  12/29/2018   \n",
       "2                          10.1016/j.jlumin.2015.02.010   2/14/2015   \n",
       "3     10.1039/B717069F_© The Royal Society of Chemis...         NaN   \n",
       "4                           10.1529/biophysj.106.094946  10/23/2008   \n",
       "...                                                 ...         ...   \n",
       "4995                          10.1016/j.sse.2007.06.004   7/30/2007   \n",
       "4996                                   10.1039/B822982A   7/21/2009   \n",
       "4997                            10.1078/0030-4026-00175   11/5/2004   \n",
       "4998                       10.1016/j.optmat.2018.06.013   6/18/2018   \n",
       "4999                      10.1016/S0042-207X(01)00296-2  12/17/2001   \n",
       "\n",
       "                                              Journal  \\\n",
       "0                    Optics and Lasers in Engineering   \n",
       "1     Journal of Industrial and Engineering Chemistry   \n",
       "2                             Journal of Luminescence   \n",
       "3                                                 NaN   \n",
       "4                                 Biophysical Journal   \n",
       "...                                               ...   \n",
       "4995                          Solid-State Electronics   \n",
       "4996                                    Lab on a Chip   \n",
       "4997                                            Optik   \n",
       "4998                                Optical Materials   \n",
       "4999                                           Vacuum   \n",
       "\n",
       "                                                  Title        Name  \\\n",
       "0     AHIGHPRECISIONMEASUREMENTTECHNIQUEFOREVALUATIN...     Alcohol   \n",
       "1     IMPROVINGUNDERSTANDINGSOLVENTEFFECTSINTERMOLEC...  aceticacid   \n",
       "2     SPECTROSCOPICPROPERTIESTELLURITEGLASSESCODOPED...   Phosphate   \n",
       "3                                                   NaN         BK7   \n",
       "4     QUANTITATIVECHARACTERIZATIONBIOLOGICALLIQUIDSF...     ethanol   \n",
       "...                                                 ...         ...   \n",
       "4995  RADIATIVELINEWIDTHASINGLEIMPURITYMOLECULEINABI...    Biphenyl   \n",
       "4996  Tunable Liquid Gradient Refractive Index (L-GR...       CaCl2   \n",
       "4997  OPTIMIZATIONCONDUCTINGPOLYMERTHINFILMOPTICALEL...       He-Ne   \n",
       "4998  ENHANCEDPHOTOELECTRICPERFORMANCENANORODTIO2FIL...         ITO   \n",
       "4999  COMPOSITIONSTRUCTURESILICONCARBIDEALLOYSOBTAIN...        C2H4   \n",
       "\n",
       "      measurement_error measurement_wavelength measurement_method  \\\n",
       "0               0.00000                    NaN         el_mylogic   \n",
       "1               0.00000                    NaN         el_mylogic   \n",
       "2               0.00000                 600 nm         el_mylogic   \n",
       "3               0.00000                    NaN           snowball   \n",
       "4               0.00126                    NaN        el_cde_text   \n",
       "...                 ...                    ...                ...   \n",
       "4995            0.00000                    NaN      el_cde_tables   \n",
       "4996            0.00000                    NaN       rsc_cde_text   \n",
       "4997            0.00000                    NaN        el_cde_text   \n",
       "4998            0.00000                    NaN        el_cde_text   \n",
       "4999            0.00000                    NaN         el_mylogic   \n",
       "\n",
       "                  normalised_name          raw_value  \\\n",
       "0                             CCO            1.34749   \n",
       "1                         CC(O)=O                1.7   \n",
       "2           [O-][P]([O-])([O-])=O               1.54   \n",
       "3                             NaN              1.518   \n",
       "4                             CCO  1.35434 ± 0.00126   \n",
       "...                           ...                ...   \n",
       "4995           c1ccc(cc1)c2ccccc2               1.68   \n",
       "4996   [['Ca', 1.0], ['Cl', 2.0]]              ∼1.41   \n",
       "4997  [['He-', 1.0], ['Ne', 1.0]]              1.717   \n",
       "4998    [['IT', 1.0], ['O', 1.0]]               1.92   \n",
       "4999     [['C', 2.0], ['H', 4.0]]                2.9   \n",
       "\n",
       "                       specifier  \n",
       "0           Refractive index (n)  \n",
       "1                              n  \n",
       "2     Refractive index (~600 nm)  \n",
       "3               refractive index  \n",
       "4               refractive index  \n",
       "...                          ...  \n",
       "4995          Refractive indices  \n",
       "4996                          nD  \n",
       "4997            refractive index  \n",
       "4998            refractive index  \n",
       "4999                           n  \n",
       "\n",
       "[5000 rows x 11 columns]"
      ]
     },
     "execution_count": 3,
     "metadata": {},
     "output_type": "execute_result"
    }
   ],
   "source": [
    "data"
   ]
  },
  {
   "cell_type": "markdown",
   "id": "55905df4",
   "metadata": {},
   "source": [
    "Let's check how many gaps we have in the lines, try to fill them"
   ]
  },
  {
   "cell_type": "code",
   "execution_count": 4,
   "id": "ccc72d77",
   "metadata": {
    "ExecuteTime": {
     "end_time": "2023-03-04T17:07:56.673105Z",
     "start_time": "2023-03-04T17:07:56.664281Z"
    }
   },
   "outputs": [],
   "source": [
    "columns = list(data.columns)"
   ]
  },
  {
   "cell_type": "code",
   "execution_count": null,
   "id": "1f868537",
   "metadata": {
    "ExecuteTime": {
     "end_time": "2023-03-04T17:07:57.365296Z",
     "start_time": "2023-03-04T17:07:57.365296Z"
    }
   },
   "outputs": [],
   "source": [
    "columns"
   ]
  },
  {
   "cell_type": "code",
   "execution_count": 5,
   "id": "602eae3a",
   "metadata": {
    "ExecuteTime": {
     "end_time": "2023-03-04T17:07:59.812644Z",
     "start_time": "2023-03-04T17:07:59.784488Z"
    },
    "scrolled": false
   },
   "outputs": [
    {
     "name": "stdout",
     "output_type": "stream",
     "text": [
      "Missing values distribution by column: \n",
      "DOI                       0.0000\n",
      "Date                      0.0842\n",
      "Journal                   0.0842\n",
      "Title                     0.0842\n",
      "Name                      0.0010\n",
      "measurement_error         0.0000\n",
      "measurement_wavelength    0.8858\n",
      "measurement_method        0.0000\n",
      "normalised_name           0.4116\n",
      "raw_value                 0.0000\n",
      "specifier                 0.0000\n",
      "dtype: float64\n",
      "\n"
     ]
    }
   ],
   "source": [
    "print(\"Missing values distribution by column: \")\n",
    "print(data.isnull().mean())\n",
    "print(\"\")"
   ]
  },
  {
   "cell_type": "markdown",
   "id": "78034919",
   "metadata": {
    "ExecuteTime": {
     "end_time": "2023-03-04T13:07:52.821262Z",
     "start_time": "2023-03-04T13:07:52.814281Z"
    }
   },
   "source": [
    "Now we can easily look at the distribution of missing values in the given dataset, for example: in the column 'measurement_wavelength' 88,58% of data is missing, in 'normalised_name' - 41,16%, which is sucks actually:( Good news: in columns 'DOI', 'measurement_error', 'measurement_method', 'raw_value' and 'specifier' there are no missing values at all! Cool!"
   ]
  },
  {
   "cell_type": "code",
   "execution_count": 6,
   "id": "4a02b8d1",
   "metadata": {
    "ExecuteTime": {
     "end_time": "2023-03-04T17:08:00.833030Z",
     "start_time": "2023-03-04T17:08:00.814053Z"
    }
   },
   "outputs": [
    {
     "name": "stdout",
     "output_type": "stream",
     "text": [
      "Column datatypes: \n",
      "DOI                        object\n",
      "Date                       object\n",
      "Journal                    object\n",
      "Title                      object\n",
      "Name                       object\n",
      "measurement_error         float64\n",
      "measurement_wavelength     object\n",
      "measurement_method         object\n",
      "normalised_name            object\n",
      "raw_value                  object\n",
      "specifier                  object\n",
      "dtype: object\n"
     ]
    }
   ],
   "source": [
    "print(\"Column datatypes: \")\n",
    "print(data.dtypes)"
   ]
  },
  {
   "cell_type": "markdown",
   "id": "115d69b2",
   "metadata": {},
   "source": [
    "Now let's see at the type of data we have. All the columns have object as their datatype aside from 'measurement_error'. In pandas, object means either string or mixed type (numerical and non-numerical type mixed)."
   ]
  },
  {
   "cell_type": "markdown",
   "id": "19ec7962",
   "metadata": {},
   "source": [
    "Finally, let’s make sure we remove any trailing characters and whitespace using 'strip':"
   ]
  },
  {
   "cell_type": "code",
   "execution_count": 7,
   "id": "8dcd1fdc",
   "metadata": {
    "ExecuteTime": {
     "end_time": "2023-03-04T17:08:03.501884Z",
     "start_time": "2023-03-04T17:08:03.489894Z"
    }
   },
   "outputs": [],
   "source": [
    "str_cols = list(data.columns)\n",
    "str_cols.remove('measurement_error')"
   ]
  },
  {
   "cell_type": "code",
   "execution_count": 8,
   "id": "5c587d14",
   "metadata": {
    "ExecuteTime": {
     "end_time": "2023-03-04T17:08:04.417290Z",
     "start_time": "2023-03-04T17:08:04.379390Z"
    }
   },
   "outputs": [],
   "source": [
    "for i in str_cols:\n",
    "    data[i] = data[i].str.strip()"
   ]
  },
  {
   "cell_type": "code",
   "execution_count": 9,
   "id": "547c8c44",
   "metadata": {
    "ExecuteTime": {
     "end_time": "2023-03-04T17:08:05.676250Z",
     "start_time": "2023-03-04T17:08:05.643928Z"
    }
   },
   "outputs": [
    {
     "data": {
      "text/html": [
       "<div>\n",
       "<style scoped>\n",
       "    .dataframe tbody tr th:only-of-type {\n",
       "        vertical-align: middle;\n",
       "    }\n",
       "\n",
       "    .dataframe tbody tr th {\n",
       "        vertical-align: top;\n",
       "    }\n",
       "\n",
       "    .dataframe thead th {\n",
       "        text-align: right;\n",
       "    }\n",
       "</style>\n",
       "<table border=\"1\" class=\"dataframe\">\n",
       "  <thead>\n",
       "    <tr style=\"text-align: right;\">\n",
       "      <th></th>\n",
       "      <th>DOI</th>\n",
       "      <th>Date</th>\n",
       "      <th>Journal</th>\n",
       "      <th>Title</th>\n",
       "      <th>Name</th>\n",
       "      <th>measurement_error</th>\n",
       "      <th>measurement_wavelength</th>\n",
       "      <th>measurement_method</th>\n",
       "      <th>normalised_name</th>\n",
       "      <th>raw_value</th>\n",
       "      <th>specifier</th>\n",
       "    </tr>\n",
       "  </thead>\n",
       "  <tbody>\n",
       "    <tr>\n",
       "      <th>0</th>\n",
       "      <td>10.1016/j.optlaseng.2008.09.005</td>\n",
       "      <td>1/14/2009</td>\n",
       "      <td>Optics and Lasers in Engineering</td>\n",
       "      <td>AHIGHPRECISIONMEASUREMENTTECHNIQUEFOREVALUATIN...</td>\n",
       "      <td>Alcohol</td>\n",
       "      <td>0.00000</td>\n",
       "      <td>NaN</td>\n",
       "      <td>el_mylogic</td>\n",
       "      <td>CCO</td>\n",
       "      <td>1.34749</td>\n",
       "      <td>Refractive index (n)</td>\n",
       "    </tr>\n",
       "    <tr>\n",
       "      <th>1</th>\n",
       "      <td>10.1016/j.jiec.2018.12.038</td>\n",
       "      <td>12/29/2018</td>\n",
       "      <td>Journal of Industrial and Engineering Chemistry</td>\n",
       "      <td>IMPROVINGUNDERSTANDINGSOLVENTEFFECTSINTERMOLEC...</td>\n",
       "      <td>aceticacid</td>\n",
       "      <td>0.00000</td>\n",
       "      <td>NaN</td>\n",
       "      <td>el_mylogic</td>\n",
       "      <td>CC(O)=O</td>\n",
       "      <td>1.7</td>\n",
       "      <td>n</td>\n",
       "    </tr>\n",
       "    <tr>\n",
       "      <th>2</th>\n",
       "      <td>10.1016/j.jlumin.2015.02.010</td>\n",
       "      <td>2/14/2015</td>\n",
       "      <td>Journal of Luminescence</td>\n",
       "      <td>SPECTROSCOPICPROPERTIESTELLURITEGLASSESCODOPED...</td>\n",
       "      <td>Phosphate</td>\n",
       "      <td>0.00000</td>\n",
       "      <td>600 nm</td>\n",
       "      <td>el_mylogic</td>\n",
       "      <td>[O-][P]([O-])([O-])=O</td>\n",
       "      <td>1.54</td>\n",
       "      <td>Refractive index (~600 nm)</td>\n",
       "    </tr>\n",
       "    <tr>\n",
       "      <th>3</th>\n",
       "      <td>10.1039/B717069F_© The Royal Society of Chemis...</td>\n",
       "      <td>NaN</td>\n",
       "      <td>NaN</td>\n",
       "      <td>NaN</td>\n",
       "      <td>BK7</td>\n",
       "      <td>0.00000</td>\n",
       "      <td>NaN</td>\n",
       "      <td>snowball</td>\n",
       "      <td>NaN</td>\n",
       "      <td>1.518</td>\n",
       "      <td>refractive index</td>\n",
       "    </tr>\n",
       "    <tr>\n",
       "      <th>4</th>\n",
       "      <td>10.1529/biophysj.106.094946</td>\n",
       "      <td>10/23/2008</td>\n",
       "      <td>Biophysical Journal</td>\n",
       "      <td>QUANTITATIVECHARACTERIZATIONBIOLOGICALLIQUIDSF...</td>\n",
       "      <td>ethanol</td>\n",
       "      <td>0.00126</td>\n",
       "      <td>NaN</td>\n",
       "      <td>el_cde_text</td>\n",
       "      <td>CCO</td>\n",
       "      <td>1.35434 ± 0.00126</td>\n",
       "      <td>refractive index</td>\n",
       "    </tr>\n",
       "  </tbody>\n",
       "</table>\n",
       "</div>"
      ],
      "text/plain": [
       "                                                 DOI        Date  \\\n",
       "0                    10.1016/j.optlaseng.2008.09.005   1/14/2009   \n",
       "1                         10.1016/j.jiec.2018.12.038  12/29/2018   \n",
       "2                       10.1016/j.jlumin.2015.02.010   2/14/2015   \n",
       "3  10.1039/B717069F_© The Royal Society of Chemis...         NaN   \n",
       "4                        10.1529/biophysj.106.094946  10/23/2008   \n",
       "\n",
       "                                           Journal  \\\n",
       "0                 Optics and Lasers in Engineering   \n",
       "1  Journal of Industrial and Engineering Chemistry   \n",
       "2                          Journal of Luminescence   \n",
       "3                                              NaN   \n",
       "4                              Biophysical Journal   \n",
       "\n",
       "                                               Title        Name  \\\n",
       "0  AHIGHPRECISIONMEASUREMENTTECHNIQUEFOREVALUATIN...     Alcohol   \n",
       "1  IMPROVINGUNDERSTANDINGSOLVENTEFFECTSINTERMOLEC...  aceticacid   \n",
       "2  SPECTROSCOPICPROPERTIESTELLURITEGLASSESCODOPED...   Phosphate   \n",
       "3                                                NaN         BK7   \n",
       "4  QUANTITATIVECHARACTERIZATIONBIOLOGICALLIQUIDSF...     ethanol   \n",
       "\n",
       "   measurement_error measurement_wavelength measurement_method  \\\n",
       "0            0.00000                    NaN         el_mylogic   \n",
       "1            0.00000                    NaN         el_mylogic   \n",
       "2            0.00000                 600 nm         el_mylogic   \n",
       "3            0.00000                    NaN           snowball   \n",
       "4            0.00126                    NaN        el_cde_text   \n",
       "\n",
       "         normalised_name          raw_value                   specifier  \n",
       "0                    CCO            1.34749        Refractive index (n)  \n",
       "1                CC(O)=O                1.7                           n  \n",
       "2  [O-][P]([O-])([O-])=O               1.54  Refractive index (~600 nm)  \n",
       "3                    NaN              1.518            refractive index  \n",
       "4                    CCO  1.35434 ± 0.00126            refractive index  "
      ]
     },
     "execution_count": 9,
     "metadata": {},
     "output_type": "execute_result"
    }
   ],
   "source": [
    "data.head()"
   ]
  },
  {
   "cell_type": "code",
   "execution_count": 10,
   "id": "814b7c2a",
   "metadata": {
    "ExecuteTime": {
     "end_time": "2023-03-04T17:08:06.963714Z",
     "start_time": "2023-03-04T17:08:06.935805Z"
    }
   },
   "outputs": [
    {
     "name": "stdout",
     "output_type": "stream",
     "text": [
      "Top 10 rows with the most missing values:\n",
      "                                                    DOI Date Journal Title  \\\n",
      "3056  10.1016/S0963-9969(01)00105-3Food Research Int...  NaN     NaN   NaN   \n",
      "2553                                 10.1039/C6AN00509H  NaN     NaN   NaN   \n",
      "1481                                 10.1039/C7AN01576C  NaN     NaN   NaN   \n",
      "2999                                 10.1039/C6TC02368A  NaN     NaN   NaN   \n",
      "4034                                 10.1039/C0CP02270E  NaN     NaN   NaN   \n",
      "2570       10.1016/j.renene.2018.02.018Renewable Energy  NaN     NaN   NaN   \n",
      "1443                                 10.1039/C8SC04479A  NaN     NaN   NaN   \n",
      "4052                                 10.1039/C2JM14369K  NaN     NaN   NaN   \n",
      "4059  10.1016/S1044-5803(03)00075-5Materials Charact...  NaN     NaN   NaN   \n",
      "4060                                   10.1039/B414064H  NaN     NaN   NaN   \n",
      "\n",
      "                         Name  measurement_error measurement_wavelength  \\\n",
      "3056                 glycerol                0.0                    NaN   \n",
      "2553             Cyclohexanol                0.0                    NaN   \n",
      "1481                     DMSO                0.0                    NaN   \n",
      "2999                      ZnS                0.0                    NaN   \n",
      "4034  5-Methyl-2(5H)-furanone                0.0                    NaN   \n",
      "2570          silicon nitride                0.0                    NaN   \n",
      "1443                     SiO2                0.0                    NaN   \n",
      "4052                     TiO2                0.0                    NaN   \n",
      "4059                     SiO2                0.0                    NaN   \n",
      "4060                PHSQ–VE1E                0.0                    NaN   \n",
      "\n",
      "     measurement_method normalised_name raw_value         specifier  \n",
      "3056           snowball             NaN      1.33  refractive index  \n",
      "2553        rsc_mylogic             NaN    1.4648                 n  \n",
      "1481           snowball             NaN      2.43  refractive index  \n",
      "2999           snowball             NaN         3  refractive index  \n",
      "4034        rsc_mylogic             NaN     1.445         Lit. R.I.  \n",
      "2570           snowball             NaN       1.5  refractive index  \n",
      "1443           snowball             NaN      1.55  refractive index  \n",
      "4052           snowball             NaN      2.76                 n  \n",
      "4059           snowball             NaN      1.46  refractive index  \n",
      "4060        rsc_mylogic             NaN     1.261  Refractive index  \n"
     ]
    }
   ],
   "source": [
    "missing_by_row = data.isnull().sum(axis=1)\n",
    "sorted_rows = data.loc[missing_by_row.sort_values(ascending=False).index]\n",
    "print(\"Top 10 rows with the most missing values:\")\n",
    "print(sorted_rows.head(10))"
   ]
  },
  {
   "cell_type": "markdown",
   "id": "6c379384",
   "metadata": {},
   "source": [
    "Oops, it seems like in some cases in the column 'DOI' the Journal name sticks to the DOI, let's fix it"
   ]
  },
  {
   "cell_type": "code",
   "execution_count": 11,
   "id": "6fc36016",
   "metadata": {
    "ExecuteTime": {
     "end_time": "2023-03-04T17:08:10.146757Z",
     "start_time": "2023-03-04T17:08:10.131799Z"
    }
   },
   "outputs": [
    {
     "name": "stdout",
     "output_type": "stream",
     "text": [
      "10.1016/S0963-9969(01)00105-3Food Research International\n"
     ]
    }
   ],
   "source": [
    "print(data.loc[3056, 'DOI'])"
   ]
  },
  {
   "cell_type": "code",
   "execution_count": 12,
   "id": "09182327",
   "metadata": {
    "ExecuteTime": {
     "end_time": "2023-03-04T17:08:11.031823Z",
     "start_time": "2023-03-04T17:08:11.023844Z"
    }
   },
   "outputs": [],
   "source": [
    "DOI_column = data['DOI'].tolist()"
   ]
  },
  {
   "cell_type": "code",
   "execution_count": 13,
   "id": "d6e96f0b",
   "metadata": {
    "ExecuteTime": {
     "end_time": "2023-03-04T17:08:11.792341Z",
     "start_time": "2023-03-04T17:08:11.771117Z"
    }
   },
   "outputs": [],
   "source": [
    "DOI_pattern = re.compile(r'^10\\.\\d{4,9}\\/[-._;()\\/:A-Z0-9]+(?=_)')"
   ]
  },
  {
   "cell_type": "code",
   "execution_count": 14,
   "id": "f004af6d",
   "metadata": {
    "ExecuteTime": {
     "end_time": "2023-03-04T17:08:13.835082Z",
     "start_time": "2023-03-04T17:08:13.821122Z"
    },
    "scrolled": true
   },
   "outputs": [
    {
     "data": {
      "text/plain": [
       "['10.1016/j.optlaseng.2008.09.005',\n",
       " '10.1016/j.jiec.2018.12.038',\n",
       " '10.1016/j.jlumin.2015.02.010',\n",
       " '10.1039/B717069F_© The Royal Society of Chemistry 2008',\n",
       " '10.1529/biophysj.106.094946',\n",
       " '10.1039/B211264G',\n",
       " '10.1016/j.saa.2018.06.016',\n",
       " '10.1016/j.tsf.2018.01.058',\n",
       " '10.1016/S0921-5107(98)00209-8']"
      ]
     },
     "execution_count": 14,
     "metadata": {},
     "output_type": "execute_result"
    }
   ],
   "source": [
    "DOI_column[0:9]"
   ]
  },
  {
   "cell_type": "code",
   "execution_count": 15,
   "id": "ffd7e456",
   "metadata": {
    "ExecuteTime": {
     "end_time": "2023-03-04T17:08:15.019414Z",
     "start_time": "2023-03-04T17:08:15.000461Z"
    }
   },
   "outputs": [
    {
     "data": {
      "text/plain": [
       "'10.1016/S0963-9969(01)00105-3Food Research International'"
      ]
     },
     "execution_count": 15,
     "metadata": {},
     "output_type": "execute_result"
    }
   ],
   "source": [
    "DOI_example = '10.1016/S0963-9969(01)00105-3Food Research International'\n",
    "DOI_example"
   ]
  },
  {
   "cell_type": "code",
   "execution_count": 16,
   "id": "73ab6d78",
   "metadata": {
    "ExecuteTime": {
     "end_time": "2023-03-04T17:08:15.597484Z",
     "start_time": "2023-03-04T17:08:15.583017Z"
    }
   },
   "outputs": [],
   "source": [
    "DOI_match_example = re.match(DOI_pattern, DOI_example)"
   ]
  },
  {
   "cell_type": "code",
   "execution_count": 17,
   "id": "4a9963f0",
   "metadata": {
    "ExecuteTime": {
     "end_time": "2023-03-04T17:08:16.016844Z",
     "start_time": "2023-03-04T17:08:16.003883Z"
    }
   },
   "outputs": [],
   "source": [
    "DOI_match_example"
   ]
  },
  {
   "cell_type": "code",
   "execution_count": 21,
   "id": "9b132449",
   "metadata": {
    "ExecuteTime": {
     "end_time": "2023-03-04T17:08:37.564111Z",
     "start_time": "2023-03-04T17:08:37.544162Z"
    }
   },
   "outputs": [],
   "source": [
    "def is_valid_doi(doi_str:str) -> bool:\n",
    "    \"\"\"\n",
    "    Check if a DOI is valid and corresponds to an article on the internet.\n",
    "    \n",
    "    Args:\n",
    "        doi_str (str): A string representing the DOI to be checked.\n",
    "        \n",
    "    Returns:\n",
    "        bool: True if the DOI is valid and corresponds to an article with metadata available on the internet, False otherwise.\n",
    "        \n",
    "    Example Usage:\n",
    "        >>> is_valid_doi('10.1016/j.jacc.2020.02.068')\n",
    "        True\n",
    "    \"\"\"\n",
    "    # Construct the API URL for the DOI\n",
    "    url = f\"https://api.crossref.org/works/{doi_str}\"\n",
    "    \n",
    "    # Make an HTTP request to the API\n",
    "    response = requests.get(url)\n",
    "    \n",
    "    # Check if the request was successful\n",
    "    if response.status_code == 200:\n",
    "        # Extract the metadata from the response\n",
    "        metadata = response.json()[\"message\"]\n",
    "        # Check if the metadata contains a title (i.e., the DOI is valid)\n",
    "        if \"title\" in metadata:\n",
    "            return True\n",
    "    # If the request failed or the metadata does not contain a title, the DOI is invalid\n",
    "    return False"
   ]
  },
  {
   "cell_type": "code",
   "execution_count": 22,
   "id": "c5d29549",
   "metadata": {
    "ExecuteTime": {
     "end_time": "2023-03-04T17:08:41.133596Z",
     "start_time": "2023-03-04T17:08:41.112651Z"
    }
   },
   "outputs": [],
   "source": [
    "def clean_DOI(initial_DOI_list: List[str]) -> List[str]:\n",
    "    \"\"\"\n",
    "    Clean a list of DOIs by removing invalid DOIs and keeping only valid DOIs with metadata available on the internet.\n",
    "\n",
    "    Args:\n",
    "        initial_DOI_list (List[str]): A list of strings representing the DOIs to be cleaned.\n",
    "\n",
    "    Returns:\n",
    "        List[str]: A list of strings representing the cleaned DOIs. Each element of the returned list is either a valid DOI or the string 'invalid' if the DOI is not valid or does not have metadata available on the internet.\n",
    "\n",
    "    Example Usage:\n",
    "        >>> clean_DOI(['10.1016/j.jacc.2020.02.068', '10.3390/bs10010012', '10.1038/nature12373', '10.1162/REST_a_00136'])\n",
    "        ['10.1016/j.jacc.2020.02.068', '10.3390/bs10010012', 'invalid', 'invalid']\n",
    "    \"\"\"\n",
    "    DOI_pattern = re.compile(r'^10\\.\\d{4,9}\\/[-._;()\\/:A-Z0-9]+', flags=re.IGNORECASE)\n",
    "    cleaned_DOI_list = []\n",
    "    for DOI in tqdm(initial_DOI_list):\n",
    "        DOI_match = re.findall(DOI_pattern, DOI)\n",
    "        if DOI_match:\n",
    "            DOI_cleaned = DOI_match[0].strip('_')\n",
    "            if is_valid_doi(DOI_cleaned):\n",
    "                cleaned_DOI_list.append(DOI_cleaned)\n",
    "            else:\n",
    "                cleaned_DOI_list.append('invalid')\n",
    "        else:\n",
    "            cleaned_DOI_list.append('invalid')\n",
    "            print(DOI)\n",
    "        # Sleep for 0.125 seconds\n",
    "        time.sleep(0.125)\n",
    "    return cleaned_DOI_list"
   ]
  },
  {
   "cell_type": "code",
   "execution_count": 23,
   "id": "b0bf779c",
   "metadata": {
    "ExecuteTime": {
     "end_time": "2023-03-04T18:02:57.514153Z",
     "start_time": "2023-03-04T17:08:50.243218Z"
    },
    "scrolled": true
   },
   "outputs": [
    {
     "name": "stderr",
     "output_type": "stream",
     "text": [
      "100%|██████████████████████████████████████████████████████████████████████████████| 5000/5000 [54:07<00:00,  1.54it/s]\n"
     ]
    }
   ],
   "source": [
    "DOI_new = clean_DOI(DOI_column)"
   ]
  },
  {
   "cell_type": "code",
   "execution_count": 24,
   "id": "901fd191",
   "metadata": {
    "ExecuteTime": {
     "end_time": "2023-03-04T18:05:31.880104Z",
     "start_time": "2023-03-04T18:05:31.866724Z"
    },
    "scrolled": false
   },
   "outputs": [
    {
     "name": "stdout",
     "output_type": "stream",
     "text": [
      "5000\n",
      "5000\n"
     ]
    }
   ],
   "source": [
    "print(len(DOI_column))\n",
    "print(len(DOI_new))"
   ]
  },
  {
   "cell_type": "code",
   "execution_count": 25,
   "id": "76ffcd7f",
   "metadata": {
    "ExecuteTime": {
     "end_time": "2023-03-04T18:05:33.435565Z",
     "start_time": "2023-03-04T18:05:33.424618Z"
    }
   },
   "outputs": [
    {
     "data": {
      "text/plain": [
       "173"
      ]
     },
     "execution_count": 25,
     "metadata": {},
     "output_type": "execute_result"
    }
   ],
   "source": [
    "DOI_new.count('invalid')"
   ]
  },
  {
   "cell_type": "code",
   "execution_count": 26,
   "id": "f74d44a2",
   "metadata": {
    "ExecuteTime": {
     "end_time": "2023-03-04T18:05:39.996798Z",
     "start_time": "2023-03-04T18:05:39.978824Z"
    }
   },
   "outputs": [
    {
     "data": {
      "text/plain": [
       "['10.1016/j.optmat.2014.04.044',\n",
       " '10.1039/B413474E',\n",
       " '10.1016/j.molliq.2015.03.012',\n",
       " '10.1016/j.jphotochem.2017.08.050',\n",
       " '10.1016/j.molliq.2013.09.035',\n",
       " '10.1016/j.sse.2007.06.004',\n",
       " '10.1039/B822982A',\n",
       " '10.1078/0030-4026-00175',\n",
       " '10.1016/j.optmat.2018.06.013',\n",
       " '10.1016/S0042-207X(01)00296-2']"
      ]
     },
     "execution_count": 26,
     "metadata": {},
     "output_type": "execute_result"
    }
   ],
   "source": [
    "DOI_new[4990:]"
   ]
  },
  {
   "cell_type": "code",
   "execution_count": 29,
   "id": "1e05b7a8",
   "metadata": {
    "ExecuteTime": {
     "end_time": "2023-03-04T18:36:51.273962Z",
     "start_time": "2023-03-04T18:36:51.265984Z"
    }
   },
   "outputs": [
    {
     "name": "stdout",
     "output_type": "stream",
     "text": [
      "[49, 71, 75, 86, 97, 108, 114, 131, 136, 221, 231, 389, 416, 485, 516, 632, 634, 637, 653, 657, 721, 731, 747, 812, 850, 904, 913, 921, 970, 973, 999, 1087, 1099, 1114, 1118, 1143, 1158, 1178, 1195, 1221, 1267, 1349, 1372, 1392, 1413, 1435, 1475, 1487, 1512, 1518, 1519, 1533, 1543, 1548, 1559, 1569, 1576, 1581, 1662, 1663, 1748, 1755, 1775, 1805, 1858, 1882, 1911, 1936, 1953, 1961, 1987, 2022, 2042, 2055, 2057, 2139, 2180, 2237, 2265, 2414, 2498, 2526, 2536, 2557, 2570, 2608, 2687, 2717, 2722, 2787, 2790, 2818, 2830, 2872, 2873, 2903, 3031, 3056, 3084, 3095, 3108, 3155, 3157, 3162, 3178, 3185, 3232, 3306, 3315, 3344, 3377, 3411, 3412, 3413, 3445, 3462, 3518, 3537, 3555, 3565, 3577, 3588, 3598, 3608, 3614, 3682, 3704, 3734, 3746, 3814, 3858, 3914, 3926, 3946, 3947, 3963, 4031, 4056, 4059, 4062, 4092, 4127, 4152, 4160, 4161, 4170, 4245, 4249, 4264, 4272, 4278, 4282, 4330, 4336, 4371, 4391, 4420, 4477, 4500, 4520, 4545, 4551, 4578, 4628, 4681, 4737, 4768, 4885, 4932, 4933, 4945, 4961, 4977]\n"
     ]
    }
   ],
   "source": [
    "invalid_ids = [i for i, x in enumerate(DOI_new) if x == 'invalid']\n",
    "print(invalid_ids)"
   ]
  },
  {
   "cell_type": "code",
   "execution_count": 35,
   "id": "f116535e",
   "metadata": {
    "ExecuteTime": {
     "end_time": "2023-03-04T18:45:04.106017Z",
     "start_time": "2023-03-04T18:45:04.097038Z"
    },
    "scrolled": true
   },
   "outputs": [
    {
     "name": "stdout",
     "output_type": "stream",
     "text": [
      "['10.1016/j.jallcom.2017.03.270Journal of Alloys and Compounds', '10.1016/j.optcom.2015.04.046Optics Communications', '10.1016/j.tsf.2016.01.038Thin Solid Films', '10.1016/S0167-9317(02)01012-2Microelectronic Engineering', '10.1016/j.chroma.2015.07.062Journal of Chromatography A', '10.1016/j.talanta.2015.11.051Talanta', '10.1038/ncomms8', '10.1016/S0021-9673(00)00517-3Journal of Chromatography A', '10.1016/j.mee.2004.03.068Microelectronic Engineering', '10.1016/S0022-3093(02)00967-5Journal of Non-Crystalline Solids', '10.1016/j.ijleo.2018.04.126Optik', '10.1016/j.carbon.2018.01.009Carbon', '10.1016/j.optmat.2004.02.014Optical Materials', '10.1016/j.expthermflusci.2018.02.036Experimental Thermal and Fluid Science', '10.1016/j.bios.2016.05.082Biosensors and Bioelectronics', '10.1016/j.yofte.2018.07.003Optical Fiber Technology', '10.1016/S0168-9002(01)00872-5Nuclear Instruments and Methods in Physics Research Section A: Accelerators, Spectrometers, Detectors and Associated Equipment', '10.1016/j.solener.2017.11.014Solar Energy', '10.1016/j.celrep.2018.07.056Cell Reports', '10.1016/j.clay.2018.02.035Applied Clay Science', '10.1016/j.ydbio.2017.12.022Developmental Biology', '10.1016/j.matlet.2016.12.136Materials Letters', '10.1016/j.apsusc.2017.06.133Applied Surface Science', '10.1016/j.optmat.2018.12.057Optical Materials', '10.1016/S0927-0248(01)00058-7Solar Energy Materials and Solar Cells', '10.1016/S0009-2614(00)00534-0Chemical Physics Letters', '10.1016/S0040-6090(00)01205-0Thin Solid Films', '10.1016/j.proeng.2015.01.124Procedia Engineering', '10.1163/15685520360685983Advanced Powder Technology', '10.1016/S0022-2313(01)00371-4Journal of Luminescence', '10.1016/j.orgel.2017.09.018Organic Electronics', '10.1016/j.matpr.2016.01.004Materials Today: Proceedings', '10.1016/j.ceramint.2016.06.015Ceramics International', '10.1016/S0021-9797(03)00452-1Journal of Colloid and Interface Science', '10.1016/S0040-6090(00)00712-4Thin Solid Films', '10.1016/j.optcom.2018.09.023Optics Communications', '10.1016/S0030-3992(02)00073-7Optics & Laser Technology', '10.1016/j.optmat.2018.10.005Optical Materials', '10.1016/S1369-8001(00)00054-8Materials Science in Semiconductor Processing', '10.1016/j.jphotochem.2018.11.021Journal of Photochemistry and Photobiology A: Chemistry', '10.1016/S1386-9477(02)01046-9Physica E: Low-dimensional Systems and Nanostructures', '10.1016/j.jeurceramsoc.2017.12.014Journal of the European Ceramic Society', '10.1016/j.matdes.2018.04.043Materials & Design', '10.1016/S0146-6410(02)00157-6Progress in Particle and Nuclear Physics', '10.1016/S0168-9002(01)01946-5Nuclear Instruments and Methods in Physics Research Section A: Accelerators, Spectrometers, Detectors and Associated Equipment', '10.1016/S0168-583X(01)01292-7Nuclear Instruments and Methods in Physics Research Section B: Beam Interactions with Materials and Atoms', '10.1016/j.solener.2019.01.007Solar Energy', '10.1016/j.snb.2018.05.123Sensors and Actuators B: Chemical', '10.1016/j.ceramint.2019.01.162Ceramics International', '10.1016/j.optmat.2004.02.002Optical Materials', '10.1016/j.ijleo.2016.04.067Optik', '10.1016/j.tsf.2003.11.269Thin Solid Films', '10.1016/j.tsf.2004.06.032Thin Solid Films', '10.1016/j.spmi.2017.10.037Superlattices and Microstructures', '10.1016/j.ijleo.2018.03.058Optik', '10.1016/j.orgel.2017.11.043Organic Electronics', '10.1016/j.matchemphys.2018.03.077Materials Chemistry and Physics', '10.1016/j.mee.2018.04.007Microelectronic Engineering', '10.1016/j.pmatsci.2017.12.002Progress in Materials Science', '10.1016/j.ijleo.2016.09.063Optik', '10.1016/j.solmat.2015.04.031Solar Energy Materials and Solar Cells', '10.1016/j.polymer.2016.03.088Polymer', '10.1016/j.ijleo.2018.10.125Optik', '10.1016/S0032-5910(02)00212-7Powder Technology', '10.1016/j.ijleo.2018.10.107Optik', '10.1016/j.ceramint.2018.06.140Ceramics International', '10.1016/j.mseb.2003.09.036Materials Science and Engineering: B', '10.1016/j.cej.2018.04.011Chemical Engineering Journal', '10.1016/j.spmi.2016.09.027Superlattices and Microstructures', '10.1016/j.vacuum.2018.05.057Vacuum', '10.1016/S0925-4005(03)00257-0Sensors and Actuators B: Chemical', '10.1016/j.optcom.2004.02.063Optics Communications', '10.1016/S0022-3093(02)00921-3Journal of Non-Crystalline Solids', '10.1016/j.apsusc.2017.06.133Applied Surface Science', '10.1016/S0026-2692(03)00137-XMicroelectronics Journal', '10.1016/S0040-6090(03)00118-4Thin Solid Films', '10.1016/j.jlumin.2004.02.012Journal of Luminescence', '10.1016/S0016-2361(99)00288-4Fuel', '10.1016/j.optcom.2004.01.008Optics Communications', '10.1016/S0257-8972(03)00603-0Surface and Coatings Technology', '10.1016/j.dental.2015.06.015Dental Materials', '10.1016/j.optcom.2015.11.026Optics Communications', '10.1016/S0924-4247(02)00062-6Sensors and Actuators A: Physical', '10.1016/S0161-6420(01)01029-6Ophthalmology', '10.1016/j.renene.2018.02.018Renewable Energy', '10.1016/j.snb.2018.10.146Sensors and Actuators B: Chemical', '10.1016/S0927-0248(02)00269-6Solar Energy Materials and Solar Cells', '10.1016/j.ijleo.2018.09.065Optik', '10.1016/S0927-7765(02)00175-3Colloids and Surfaces B: Biointerfaces', '10.1016/j.jallcom.2017.07.141Journal of Alloys and Compounds', '10.1016/j.snb.2004.06.015', '10.1016/j.jpcs.2019.01.033Journal of Physics and Chemistry of Solids', '10.1016/S0026-2714(01)00075-0Microelectronics Reliability', '10.1016/j.rinp.2018.10.024Results in Physics', '10.1016/S0925-3467(01)00040-4Optical Materials', '10.1016/j.matchemphys.2018.04.074Materials Chemistry and Physics', '10.1016/j.ijleo.2018.10.075Optik', '10.1016/S0963-9969(01)00105-3Food Research International', '10.1016/j.optcom.2003.09.044Optics Communications', '10.1016/S1350-4495(99)00047-XInfrared Physics & Technology', '10.1016/j.optmat.2018.05.081Optical Materials', '10.1016/j.matchemphys.2015.12.042Materials Chemistry and Physics', '10.1016/S0257-8972(99)00617-9Surface and Coatings Technology', '10.1163/15685520360685983Advanced Powder Technology', '10.3389/fpls.2014.00', '10.1016/j.ceramint.2016.09.094Ceramics International', '10.1016/j.snb.2018.07.092Sensors and Actuators B: Chemical', '10.1016/j.surfcoat.2003.09.027Surface and Coatings Technology', '10.1016/S0167-577X(99)00236-0Materials Letters', '10.1016/j.jcrysgro.2018.12.027Journal of Crystal Growth', '10.1016/j.optcom.2014.10.019Optics Communications', '10.1016/S0022-4073(03)00262-0Journal of Quantitative Spectroscopy and Radiative Transfer', '10.1016/j.colsurfa.2018.09.052Colloids and Surfaces A: Physicochemical and Engineering Aspects', '10.1016/S0956-5663(00)00072-5Biosensors and Bioelectronics', '10.1016/j.jallcom.2018.08.155Journal of Alloys and Compounds', '10.1016/S0925-4005(02)00324-6Sensors and Actuators B: Chemical', '10.1016/j.carbpol.2018.10.025Carbohydrate Polymers', '10.1016/j.jlumin.2014.12.041Journal of Luminescence', '10.1002/jbio.201700', '10.1016/j.nima.2004.03.032Nuclear Instruments and Methods in Physics Research Section A: Accelerators, Spectrometers, Detectors and Associated Equipment', '10.1016/S0042-207X(00)00222-0Vacuum', '10.1016/S0168-9002(99)00819-0Nuclear Instruments and Methods in Physics Research Section A: Accelerators, Spectrometers, Detectors and Associated Equipment', '10.1016/j.rinp.2018.04.052Results in Physics', '10.1016/j.ceramint.2015.03.154Ceramics International', '10.1016/j.cplett.2015.12.035Chemical Physics Letters', '10.1016/S0924-4247(03)00057-8Sensors and Actuators A: Physical', '10.1016/j.jlumin.2018.10.026Journal of Luminescence', '10.1016/S0040-6090(03)00456-5Thin Solid Films', '10.1016/j.snb.2015.09.100Sensors and Actuators B: Chemical', '10.1016/j.jallcom.2017.11.261Journal of Alloys and Compounds', '10.1016/j.optcom.2015.06.011Optics Communications', '10.1016/j.aca.2004.07.045Analytica Chimica Acta', '10.1016/S0925-4005(03)00257-0Sensors and Actuators B: Chemical', '10.1016/j.orgel.2018.06.014Organic Electronics', '10.1016/j.polymer.2019.02.024Polymer', '10.1016/j.apsusc.2017.03.232Applied Surface Science', '10.1016/S1010-6030(00)00238-0Journal of Photochemistry and Photobiology A: Chemistry', '10.1016/j.aca.2016.07.009Analytica Chimica Acta', '10.1016/S1044-5803(03)00075-5Materials Characterization', '10.1016/j.solmat.2018.03.040Solar Energy Materials and Solar Cells', '10.1016/S0168-583X(03)00815-2Nuclear Instruments and Methods in Physics Research Section B: Beam Interactions with Materials and Atoms', '10.1016/S0021-9797(03)00060-2Journal of Colloid and Interface Science', '10.1016/j.nucengdes.2016.04.011Nuclear Engineering and Design', '10.1016/j.jiec.2015.11.022Journal of Industrial and Engineering Chemistry', '10.1016/S0030-3992(02)00073-7Optics & Laser Technology', '10.1016/j.ijleo.2017.09.058Optik', '10.1016/S0040-6090(03)00456-5Thin Solid Films', '10.1016/S0925-4005(03)00382-4Sensors and Actuators B: Chemical', '10.1016/S0030-4018(00)00741-0Optics Communications', '10.1016/j.bios.2018.11.002Biosensors and Bioelectronics', '10.1016/S1388-2481(02)00256-4Electrochemistry Communications', '10.1016/j.optcom.2016.04.061Optics Communications', '10.1016/j.snb.2017.08.185Sensors and Actuators B: Chemical', '10.1016/j.physe.2016.01.001Physica E: Low-dimensional Systems and Nanostructures', '10.1016/j.snb.2004.02.044Sensors and Actuators B: Chemical', '10.1016/j.chroma.2017.12.026Journal of Chromatography A', '10.1016/S0925-4005(99)00427-XSensors and Actuators B: Chemical', '10.1016/S0014-3057(99)00240-2European Polymer Journal', '10.1063/1.4765', '10.1016/S0257-8972(02)00209-8Surface and Coatings Technology', '10.1016/S0927-0248(02)00375-6Solar Energy Materials and Solar Cells', '10.1016/j.matlet.2016.09.119Materials Letters', '10.1016/j.snb.2017.07.137Sensors and Actuators B: Chemical', '10.1016/j.materresbull.2017.03.025Materials Research Bulletin', '10.1016/S0038-092X(00)00013-XSolar Energy', '10.1016/S0927-7757(01)01060-3Colloids and Surfaces A: Physicochemical and Engineering Aspects', '10.1016/j.jallcom.2018.11.171Journal of Alloys and Compounds', '10.1016/j.jcis.2018.09.050Journal of Colloid and Interface Science', '10.1016/S0003-2670(00)00927-2Analytica Chimica Acta', '10.1016/j.optcom.2016.11.031Optics Communications', '10.1016/j.polymer.2018.03.018Polymer', '10.1016/j.snb.2018.03.136Sensors and Actuators B: Chemical', '10.1016/S0967-0637(99)00085-0Deep Sea Research Part I: Oceanographic Research Papers'] [49, 71, 75, 86, 97, 108, 114, 131, 136, 221, 231, 389, 416, 485, 516, 632, 634, 637, 653, 657, 721, 731, 747, 812, 850, 904, 913, 921, 970, 973, 999, 1087, 1099, 1114, 1118, 1143, 1158, 1178, 1195, 1221, 1267, 1349, 1372, 1392, 1413, 1435, 1475, 1487, 1512, 1518, 1519, 1533, 1543, 1548, 1559, 1569, 1576, 1581, 1662, 1663, 1748, 1755, 1775, 1805, 1858, 1882, 1911, 1936, 1953, 1961, 1987, 2022, 2042, 2055, 2057, 2139, 2180, 2237, 2265, 2414, 2498, 2526, 2536, 2557, 2570, 2608, 2687, 2717, 2722, 2787, 2790, 2818, 2830, 2872, 2873, 2903, 3031, 3056, 3084, 3095, 3108, 3155, 3157, 3162, 3178, 3185, 3232, 3306, 3315, 3344, 3377, 3411, 3412, 3413, 3445, 3462, 3518, 3537, 3555, 3565, 3577, 3588, 3598, 3608, 3614, 3682, 3704, 3734, 3746, 3814, 3858, 3914, 3926, 3946, 3947, 3963, 4031, 4056, 4059, 4062, 4092, 4127, 4152, 4160, 4161, 4170, 4245, 4249, 4264, 4272, 4278, 4282, 4330, 4336, 4371, 4391, 4420, 4477, 4500, 4520, 4545, 4551, 4578, 4628, 4681, 4737, 4768, 4885, 4932, 4933, 4945, 4961, 4977]\n"
     ]
    }
   ],
   "source": [
    "invalid_elements = [DOI_column[i] for i in invalid_ids]\n",
    "print(invalid_elements, invalid_ids)"
   ]
  },
  {
   "cell_type": "code",
   "execution_count": 37,
   "id": "0a393788",
   "metadata": {
    "ExecuteTime": {
     "end_time": "2023-03-04T18:47:16.284658Z",
     "start_time": "2023-03-04T18:47:16.066652Z"
    }
   },
   "outputs": [],
   "source": [
    "data.iloc[invalid_ids,:].to_csv(\"data_2_invalid.tsv\", sep='\\t')"
   ]
  },
  {
   "cell_type": "code",
   "execution_count": 38,
   "id": "f14673f0",
   "metadata": {
    "ExecuteTime": {
     "end_time": "2023-03-04T18:47:43.033958Z",
     "start_time": "2023-03-04T18:47:43.022957Z"
    }
   },
   "outputs": [
    {
     "data": {
      "text/plain": [
       "'C:\\\\Users\\\\bocha\\\\Algorithms and Big Data in Chemistry and Materials'"
      ]
     },
     "execution_count": 38,
     "metadata": {},
     "output_type": "execute_result"
    }
   ],
   "source": [
    "pwd"
   ]
  },
  {
   "cell_type": "code",
   "execution_count": 44,
   "id": "a687c76e",
   "metadata": {
    "ExecuteTime": {
     "end_time": "2023-03-04T19:17:06.771765Z",
     "start_time": "2023-03-04T19:17:06.759797Z"
    }
   },
   "outputs": [],
   "source": [
    "DOI_no_invalid_elements = [re.findall(r'^10\\.\\d{4,9}\\/[-._;()\\/:A-Z0-9]+\\d', invalid_element) for invalid_element in invalid_elements]"
   ]
  },
  {
   "cell_type": "code",
   "execution_count": 45,
   "id": "e0dc7fc5",
   "metadata": {
    "ExecuteTime": {
     "end_time": "2023-03-04T19:17:16.072844Z",
     "start_time": "2023-03-04T19:17:16.054888Z"
    }
   },
   "outputs": [
    {
     "data": {
      "text/plain": [
       "[[],\n",
       " [],\n",
       " [],\n",
       " ['10.1016/S0167-9317(02)01012-2'],\n",
       " [],\n",
       " [],\n",
       " [],\n",
       " ['10.1016/S0021-9673(00)00517-3'],\n",
       " [],\n",
       " ['10.1016/S0022-3093(02)00967-5'],\n",
       " [],\n",
       " [],\n",
       " [],\n",
       " [],\n",
       " [],\n",
       " [],\n",
       " ['10.1016/S0168-9002(01)00872-5'],\n",
       " [],\n",
       " [],\n",
       " [],\n",
       " [],\n",
       " [],\n",
       " [],\n",
       " [],\n",
       " ['10.1016/S0927-0248(01)00058-7'],\n",
       " ['10.1016/S0009-2614(00)00534-0'],\n",
       " ['10.1016/S0040-6090(00)01205-0'],\n",
       " [],\n",
       " ['10.1163/15685520360685983'],\n",
       " ['10.1016/S0022-2313(01)00371-4'],\n",
       " [],\n",
       " [],\n",
       " [],\n",
       " ['10.1016/S0021-9797(03)00452-1'],\n",
       " ['10.1016/S0040-6090(00)00712-4'],\n",
       " [],\n",
       " ['10.1016/S0030-3992(02)00073-7'],\n",
       " [],\n",
       " ['10.1016/S1369-8001(00)00054-8'],\n",
       " [],\n",
       " ['10.1016/S1386-9477(02)01046-9'],\n",
       " [],\n",
       " [],\n",
       " ['10.1016/S0146-6410(02)00157-6'],\n",
       " ['10.1016/S0168-9002(01)01946-5'],\n",
       " ['10.1016/S0168-583X(01)01292-7'],\n",
       " [],\n",
       " [],\n",
       " [],\n",
       " [],\n",
       " [],\n",
       " [],\n",
       " [],\n",
       " [],\n",
       " [],\n",
       " [],\n",
       " [],\n",
       " [],\n",
       " [],\n",
       " [],\n",
       " [],\n",
       " [],\n",
       " [],\n",
       " ['10.1016/S0032-5910(02)00212-7'],\n",
       " [],\n",
       " [],\n",
       " [],\n",
       " [],\n",
       " [],\n",
       " [],\n",
       " ['10.1016/S0925-4005(03)00257-0'],\n",
       " [],\n",
       " ['10.1016/S0022-3093(02)00921-3'],\n",
       " [],\n",
       " ['10.1016/S0026-2692(03)00137'],\n",
       " ['10.1016/S0040-6090(03)00118-4'],\n",
       " [],\n",
       " ['10.1016/S0016-2361(99)00288-4'],\n",
       " [],\n",
       " ['10.1016/S0257-8972(03)00603-0'],\n",
       " [],\n",
       " [],\n",
       " ['10.1016/S0924-4247(02)00062-6'],\n",
       " ['10.1016/S0161-6420(01)01029-6'],\n",
       " [],\n",
       " [],\n",
       " ['10.1016/S0927-0248(02)00269-6'],\n",
       " [],\n",
       " ['10.1016/S0927-7765(02)00175-3'],\n",
       " [],\n",
       " [],\n",
       " [],\n",
       " ['10.1016/S0026-2714(01)00075-0'],\n",
       " [],\n",
       " ['10.1016/S0925-3467(01)00040-4'],\n",
       " [],\n",
       " [],\n",
       " ['10.1016/S0963-9969(01)00105-3'],\n",
       " [],\n",
       " ['10.1016/S1350-4495(99)00047'],\n",
       " [],\n",
       " [],\n",
       " ['10.1016/S0257-8972(99)00617-9'],\n",
       " ['10.1163/15685520360685983'],\n",
       " [],\n",
       " [],\n",
       " [],\n",
       " [],\n",
       " ['10.1016/S0167-577X(99)00236-0'],\n",
       " [],\n",
       " [],\n",
       " ['10.1016/S0022-4073(03)00262-0'],\n",
       " [],\n",
       " ['10.1016/S0956-5663(00)00072-5'],\n",
       " [],\n",
       " ['10.1016/S0925-4005(02)00324-6'],\n",
       " [],\n",
       " [],\n",
       " [],\n",
       " [],\n",
       " ['10.1016/S0042-207X(00)00222-0'],\n",
       " ['10.1016/S0168-9002(99)00819-0'],\n",
       " [],\n",
       " [],\n",
       " [],\n",
       " ['10.1016/S0924-4247(03)00057-8'],\n",
       " [],\n",
       " ['10.1016/S0040-6090(03)00456-5'],\n",
       " [],\n",
       " [],\n",
       " [],\n",
       " [],\n",
       " ['10.1016/S0925-4005(03)00257-0'],\n",
       " [],\n",
       " [],\n",
       " [],\n",
       " ['10.1016/S1010-6030(00)00238-0'],\n",
       " [],\n",
       " ['10.1016/S1044-5803(03)00075-5'],\n",
       " [],\n",
       " ['10.1016/S0168-583X(03)00815-2'],\n",
       " ['10.1016/S0021-9797(03)00060-2'],\n",
       " [],\n",
       " [],\n",
       " ['10.1016/S0030-3992(02)00073-7'],\n",
       " [],\n",
       " ['10.1016/S0040-6090(03)00456-5'],\n",
       " ['10.1016/S0925-4005(03)00382-4'],\n",
       " ['10.1016/S0030-4018(00)00741-0'],\n",
       " [],\n",
       " ['10.1016/S1388-2481(02)00256-4'],\n",
       " [],\n",
       " [],\n",
       " [],\n",
       " [],\n",
       " [],\n",
       " ['10.1016/S0925-4005(99)00427'],\n",
       " ['10.1016/S0014-3057(99)00240-2'],\n",
       " ['10.1063/1.4765'],\n",
       " ['10.1016/S0257-8972(02)00209-8'],\n",
       " ['10.1016/S0927-0248(02)00375-6'],\n",
       " [],\n",
       " [],\n",
       " [],\n",
       " ['10.1016/S0038-092X(00)00013'],\n",
       " ['10.1016/S0927-7757(01)01060-3'],\n",
       " [],\n",
       " [],\n",
       " ['10.1016/S0003-2670(00)00927-2'],\n",
       " [],\n",
       " [],\n",
       " [],\n",
       " ['10.1016/S0967-0637(99)00085-0']]"
      ]
     },
     "execution_count": 45,
     "metadata": {},
     "output_type": "execute_result"
    }
   ],
   "source": [
    "DOI_no_invalid_elements"
   ]
  },
  {
   "cell_type": "code",
   "execution_count": 58,
   "id": "4e6eb327",
   "metadata": {
    "ExecuteTime": {
     "end_time": "2023-03-04T19:30:59.026303Z",
     "start_time": "2023-03-04T19:30:29.261602Z"
    },
    "scrolled": true
   },
   "outputs": [
    {
     "name": "stderr",
     "output_type": "stream",
     "text": [
      "\n",
      "\n",
      "\n",
      "  0%|                                                                                          | 0/173 [00:00<?, ?it/s]\u001b[A\u001b[A\u001b[A\n",
      "\n",
      "\n",
      "  2%|█▉                                                                                | 4/173 [00:00<00:19,  8.81it/s]\u001b[A\u001b[A\u001b[A\n",
      "\n",
      "\n",
      "  5%|███▊                                                                              | 8/173 [00:00<00:18,  8.93it/s]\u001b[A\u001b[A\u001b[A\n",
      "\n",
      "\n",
      "  6%|████▋                                                                            | 10/173 [00:01<00:23,  6.94it/s]\u001b[A\u001b[A\u001b[A\n",
      "\n",
      "\n",
      " 10%|███████▉                                                                         | 17/173 [00:01<00:15, 10.34it/s]\u001b[A\u001b[A\u001b[A\n",
      "\n",
      "\n",
      " 14%|███████████▋                                                                     | 25/173 [00:02<00:11, 12.84it/s]\u001b[A\u001b[A\u001b[A\n",
      "\n",
      "\n",
      " 16%|████████████▋                                                                    | 27/173 [00:03<00:19,  7.39it/s]\u001b[A\u001b[A\u001b[A\n",
      "\n",
      "\n",
      " 17%|█████████████▌                                                                   | 29/173 [00:03<00:21,  6.63it/s]\u001b[A\u001b[A\u001b[A\n",
      "\n",
      "\n",
      " 17%|██████████████                                                                   | 30/173 [00:04<00:26,  5.47it/s]\u001b[A\u001b[A\u001b[A\n",
      "\n",
      "\n",
      " 20%|███████████████▉                                                                 | 34/173 [00:04<00:21,  6.34it/s]\u001b[A\u001b[A\u001b[A\n",
      "\n",
      "\n",
      " 20%|████████████████▍                                                                | 35/173 [00:05<00:33,  4.17it/s]\u001b[A\u001b[A\u001b[A\n",
      "\n",
      "\n",
      " 21%|█████████████████▎                                                               | 37/173 [00:05<00:32,  4.25it/s]\u001b[A\u001b[A\u001b[A\n",
      "\n",
      "\n",
      " 23%|██████████████████▎                                                              | 39/173 [00:06<00:31,  4.28it/s]\u001b[A\u001b[A\u001b[A\n",
      "\n",
      "\n",
      " 24%|███████████████████▏                                                             | 41/173 [00:06<00:30,  4.31it/s]\u001b[A\u001b[A\u001b[A\n",
      "\n",
      "\n",
      " 25%|████████████████████▌                                                            | 44/173 [00:07<00:26,  4.94it/s]\u001b[A\u001b[A\u001b[A\n",
      "\n",
      "\n",
      " 26%|█████████████████████                                                            | 45/173 [00:07<00:30,  4.17it/s]\u001b[A\u001b[A\u001b[A\n",
      "\n",
      "\n",
      " 27%|█████████████████████▌                                                           | 46/173 [00:08<00:35,  3.59it/s]\u001b[A\u001b[A\u001b[A\n",
      "\n",
      "\n",
      " 37%|█████████████████████████████▉                                                   | 64/173 [00:08<00:07, 14.19it/s]\u001b[A\u001b[A\u001b[A\n",
      "\n",
      "\n",
      " 41%|█████████████████████████████████▏                                               | 71/173 [00:08<00:06, 14.61it/s]\u001b[A\u001b[A\u001b[A\n",
      "\n",
      "\n",
      " 42%|██████████████████████████████████▏                                              | 73/173 [00:09<00:08, 11.22it/s]\u001b[A\u001b[A\u001b[A\n",
      "\n",
      "\n",
      " 43%|███████████████████████████████████                                              | 75/173 [00:09<00:10,  9.26it/s]\u001b[A\u001b[A\u001b[A\n",
      "\n",
      "\n",
      " 44%|███████████████████████████████████▌                                             | 76/173 [00:10<00:13,  7.15it/s]\u001b[A\u001b[A\u001b[A\n",
      "\n",
      "\n",
      " 45%|████████████████████████████████████▌                                            | 78/173 [00:10<00:14,  6.33it/s]\u001b[A\u001b[A\u001b[A\n",
      "\n",
      "\n",
      " 46%|█████████████████████████████████████▍                                           | 80/173 [00:11<00:16,  5.66it/s]\u001b[A\u001b[A\u001b[A\n",
      "\n",
      "\n",
      " 48%|██████████████████████████████████████▊                                          | 83/173 [00:11<00:15,  5.93it/s]\u001b[A\u001b[A\u001b[A\n",
      "\n",
      "\n",
      " 49%|███████████████████████████████████████▎                                         | 84/173 [00:12<00:18,  4.84it/s]\u001b[A\u001b[A\u001b[A\n",
      "\n",
      "\n",
      " 50%|████████████████████████████████████████▋                                        | 87/173 [00:12<00:15,  5.42it/s]\u001b[A\u001b[A\u001b[A\n",
      "\n",
      "\n",
      " 51%|█████████████████████████████████████████▋                                       | 89/173 [00:13<00:18,  4.61it/s]\u001b[A\u001b[A\u001b[A\n",
      "\n",
      "\n",
      " 54%|███████████████████████████████████████████▌                                     | 93/173 [00:13<00:15,  5.16it/s]\u001b[A\u001b[A\u001b[A\n",
      "\n",
      "\n",
      " 55%|████████████████████████████████████████████▍                                    | 95/173 [00:14<00:15,  4.88it/s]\u001b[A\u001b[A\u001b[A\n",
      "\n",
      "\n",
      " 57%|█████████████████████████████████████████████▉                                   | 98/173 [00:14<00:14,  5.06it/s]\u001b[A\u001b[A\u001b[A\n",
      "\n",
      "\n",
      " 58%|██████████████████████████████████████████████▏                                 | 100/173 [00:15<00:15,  4.71it/s]\u001b[A\u001b[A\u001b[A\n",
      "\n",
      "\n",
      " 60%|███████████████████████████████████████████████▋                                | 103/173 [00:15<00:13,  5.18it/s]\u001b[A\u001b[A\u001b[A\n",
      "\n",
      "\n",
      " 60%|████████████████████████████████████████████████                                | 104/173 [00:16<00:15,  4.38it/s]\u001b[A\u001b[A\u001b[A\n",
      "\n",
      "\n",
      " 63%|██████████████████████████████████████████████████▍                             | 109/173 [00:16<00:10,  6.24it/s]\u001b[A\u001b[A\u001b[A\n",
      "\n",
      "\n",
      " 65%|███████████████████████████████████████████████████▊                            | 112/173 [00:17<00:10,  5.91it/s]\u001b[A\u001b[A\u001b[A\n",
      "\n",
      "\n",
      " 66%|████████████████████████████████████████████████████▋                           | 114/173 [00:17<00:10,  5.48it/s]\u001b[A\u001b[A\u001b[A\n",
      "\n",
      "\n",
      " 67%|█████████████████████████████████████████████████████▋                          | 116/173 [00:18<00:11,  5.16it/s]\u001b[A\u001b[A\u001b[A\n",
      "\n",
      "\n",
      " 70%|███████████████████████████████████████████████████████▉                        | 121/173 [00:19<00:09,  5.69it/s]\u001b[A\u001b[A\u001b[A\n",
      "\n",
      "\n",
      " 71%|████████████████████████████████████████████████████████▍                       | 122/173 [00:19<00:10,  4.81it/s]\u001b[A\u001b[A\u001b[A\n",
      "\n",
      "\n",
      " 73%|██████████████████████████████████████████████████████████▎                     | 126/173 [00:20<00:08,  5.84it/s]\u001b[A\u001b[A\u001b[A\n",
      "\n",
      "\n",
      " 74%|███████████████████████████████████████████████████████████▏                    | 128/173 [00:20<00:08,  5.43it/s]\u001b[A\u001b[A\u001b[A\n",
      "\n",
      "\n",
      " 77%|█████████████████████████████████████████████████████████████▌                  | 133/173 [00:20<00:05,  6.99it/s]\u001b[A\u001b[A\u001b[A\n",
      "\n",
      "\n",
      " 79%|███████████████████████████████████████████████████████████████▎                | 137/173 [00:21<00:04,  7.33it/s]\u001b[A\u001b[A\u001b[A\n",
      "\n",
      "\n",
      " 80%|████████████████████████████████████████████████████████████████▎               | 139/173 [00:21<00:05,  6.46it/s]\u001b[A\u001b[A\u001b[A\n",
      "\n",
      "\n",
      " 82%|█████████████████████████████████████████████████████████████████▏              | 141/173 [00:22<00:05,  5.85it/s]\u001b[A\u001b[A\u001b[A\n",
      "\n",
      "\n",
      " 82%|█████████████████████████████████████████████████████████████████▋              | 142/173 [00:22<00:06,  4.81it/s]\u001b[A\u001b[A\u001b[A\n",
      "\n",
      "\n",
      " 84%|███████████████████████████████████████████████████████████████████             | 145/173 [00:23<00:05,  5.35it/s]\u001b[A\u001b[A\u001b[A\n",
      "\n",
      "\n",
      " 85%|███████████████████████████████████████████████████████████████████▉            | 147/173 [00:23<00:05,  5.04it/s]\u001b[A\u001b[A\u001b[A\n",
      "\n",
      "\n",
      " 86%|████████████████████████████████████████████████████████████████████▍           | 148/173 [00:24<00:06,  4.05it/s]\u001b[A\u001b[A\u001b[A\n",
      "\n",
      "\n",
      " 86%|████████████████████████████████████████████████████████████████████▉           | 149/173 [00:24<00:07,  3.30it/s]\u001b[A\u001b[A\u001b[A\n",
      "\n",
      "\n",
      " 87%|█████████████████████████████████████████████████████████████████████▊          | 151/173 [00:25<00:06,  3.58it/s]\u001b[A\u001b[A\u001b[A\n",
      "\n",
      "\n",
      " 91%|████████████████████████████████████████████████████████████████████████▌       | 157/173 [00:25<00:02,  6.36it/s]\u001b[A\u001b[A\u001b[A\n",
      "\n",
      "\n",
      " 91%|█████████████████████████████████████████████████████████████████████████       | 158/173 [00:26<00:02,  5.17it/s]\u001b[A\u001b[A\u001b[A\n",
      "\n",
      "\n",
      " 92%|█████████████████████████████████████████████████████████████████████████▌      | 159/173 [00:26<00:03,  3.80it/s]\u001b[A\u001b[A\u001b[A\n",
      "\n",
      "\n",
      " 92%|█████████████████████████████████████████████████████████████████████████▉      | 160/173 [00:27<00:03,  3.38it/s]\u001b[A\u001b[A\u001b[A\n",
      "\n",
      "\n",
      " 93%|██████████████████████████████████████████████████████████████████████████▍     | 161/173 [00:27<00:03,  3.05it/s]\u001b[A\u001b[A\u001b[A\n",
      "\n",
      "\n",
      " 95%|████████████████████████████████████████████████████████████████████████████▎   | 165/173 [00:28<00:01,  4.72it/s]\u001b[A\u001b[A\u001b[A\n",
      "\n",
      "\n",
      " 96%|████████████████████████████████████████████████████████████████████████████▊   | 166/173 [00:28<00:01,  3.91it/s]\u001b[A\u001b[A\u001b[A\n",
      "\n",
      "\n",
      " 98%|██████████████████████████████████████████████████████████████████████████████▏ | 169/173 [00:29<00:00,  4.69it/s]\u001b[A\u001b[A\u001b[A\n",
      "\n",
      "\n",
      "100%|████████████████████████████████████████████████████████████████████████████████| 173/173 [00:29<00:00,  5.81it/s]\u001b[A\u001b[A\u001b[A\n"
     ]
    }
   ],
   "source": [
    "status_DOI = [is_valid_doi(DOI_no_invalid_element[0]) for DOI_no_invalid_element in tqdm(DOI_no_invalid_elements) if DOI_no_invalid_element]"
   ]
  },
  {
   "cell_type": "code",
   "execution_count": 59,
   "id": "216f03d6",
   "metadata": {
    "ExecuteTime": {
     "end_time": "2023-03-04T19:31:01.968319Z",
     "start_time": "2023-03-04T19:31:01.946648Z"
    },
    "scrolled": true
   },
   "outputs": [
    {
     "data": {
      "text/plain": [
       "[True,\n",
       " True,\n",
       " True,\n",
       " True,\n",
       " True,\n",
       " True,\n",
       " True,\n",
       " True,\n",
       " True,\n",
       " True,\n",
       " True,\n",
       " True,\n",
       " True,\n",
       " True,\n",
       " True,\n",
       " True,\n",
       " True,\n",
       " True,\n",
       " True,\n",
       " True,\n",
       " False,\n",
       " True,\n",
       " True,\n",
       " True,\n",
       " True,\n",
       " True,\n",
       " True,\n",
       " True,\n",
       " True,\n",
       " True,\n",
       " True,\n",
       " False,\n",
       " True,\n",
       " True,\n",
       " True,\n",
       " True,\n",
       " True,\n",
       " True,\n",
       " True,\n",
       " True,\n",
       " True,\n",
       " True,\n",
       " True,\n",
       " True,\n",
       " True,\n",
       " True,\n",
       " True,\n",
       " True,\n",
       " True,\n",
       " True,\n",
       " True,\n",
       " True,\n",
       " False,\n",
       " True,\n",
       " False,\n",
       " True,\n",
       " True,\n",
       " False,\n",
       " True,\n",
       " True,\n",
       " True]"
      ]
     },
     "execution_count": 59,
     "metadata": {},
     "output_type": "execute_result"
    }
   ],
   "source": [
    "status_DOI"
   ]
  },
  {
   "cell_type": "code",
   "execution_count": 60,
   "id": "a88c2efa",
   "metadata": {
    "ExecuteTime": {
     "end_time": "2023-03-04T19:39:24.949051Z",
     "start_time": "2023-03-04T19:39:24.930100Z"
    }
   },
   "outputs": [],
   "source": [
    "DOI_pattern_2 = re.compile(r'^10\\.\\d{4,9}\\/[-._;()\\/:A-Z0-9]+\\d', flags=re.IGNORECASE)"
   ]
  },
  {
   "cell_type": "code",
   "execution_count": 61,
   "id": "0b6f1e3b",
   "metadata": {
    "ExecuteTime": {
     "end_time": "2023-03-04T19:43:06.637834Z",
     "start_time": "2023-03-04T19:43:06.626864Z"
    }
   },
   "outputs": [],
   "source": [
    "#DOI_new_backup = DOI_new.copy()"
   ]
  },
  {
   "cell_type": "code",
   "execution_count": 62,
   "id": "d2e45105",
   "metadata": {
    "ExecuteTime": {
     "end_time": "2023-03-04T19:46:44.947449Z",
     "start_time": "2023-03-04T19:46:44.933486Z"
    }
   },
   "outputs": [],
   "source": [
    "with open('DOI_new_backup.txt', 'w') as DOI_file:\n",
    "    for DOI in DOI_new_backup:\n",
    "        DOI_file.write(DOI+'\\n')"
   ]
  },
  {
   "cell_type": "code",
   "execution_count": 75,
   "id": "55f494ab",
   "metadata": {
    "ExecuteTime": {
     "end_time": "2023-03-04T20:04:58.966278Z",
     "start_time": "2023-03-04T20:03:29.137287Z"
    }
   },
   "outputs": [
    {
     "name": "stderr",
     "output_type": "stream",
     "text": [
      "\n",
      "\n",
      "\n",
      "0it [00:00, ?it/s]\u001b[A\u001b[A\u001b[A\n",
      "\n",
      "\n",
      "50it [00:00, 111.20it/s]\u001b[A\u001b[A\u001b[A\n",
      "\n",
      "\n",
      "72it [00:00, 76.63it/s] \u001b[A\u001b[A\u001b[A\n",
      "\n",
      "\n",
      "80it [00:01, 48.40it/s]\u001b[A\u001b[A\u001b[A\n",
      "\n",
      "\n",
      "87it [00:01, 35.47it/s]\u001b[A\u001b[A\u001b[A\n",
      "\n",
      "\n",
      "98it [00:02, 31.24it/s]\u001b[A\u001b[A\u001b[A\n",
      "\n",
      "\n",
      "109it [00:02, 28.73it/s]\u001b[A\u001b[A\u001b[A\n",
      "\n",
      "\n",
      "115it [00:03, 23.80it/s]\u001b[A\u001b[A\u001b[A\n",
      "\n",
      "\n",
      "132it [00:03, 24.72it/s]\u001b[A\u001b[A\u001b[A\n",
      "\n",
      "\n",
      "137it [00:04, 20.99it/s]\u001b[A\u001b[A\u001b[A\n",
      "\n",
      "\n",
      "222it [00:04, 69.80it/s]\u001b[A\u001b[A\u001b[A\n",
      "\n",
      "\n",
      "232it [00:05, 55.48it/s]\u001b[A\u001b[A\u001b[A\n",
      "\n",
      "\n",
      "390it [00:05, 140.20it/s]\u001b[A\u001b[A\u001b[A\n",
      "\n",
      "\n",
      "417it [00:07, 69.74it/s] \u001b[A\u001b[A\u001b[A\n",
      "\n",
      "\n",
      "486it [00:07, 86.57it/s]\u001b[A\u001b[A\u001b[A\n",
      "\n",
      "\n",
      "517it [00:08, 81.40it/s]\u001b[A\u001b[A\u001b[A\n",
      "\n",
      "\n",
      "633it [00:08, 121.95it/s]\u001b[A\u001b[A\u001b[A\n",
      "\n",
      "\n",
      "648it [00:09, 74.93it/s] \u001b[A\u001b[A\u001b[A\n",
      "\n",
      "\n",
      "659it [00:10, 52.99it/s]\u001b[A\u001b[A\u001b[A\n",
      "\n",
      "\n",
      "722it [00:10, 69.96it/s]\u001b[A\u001b[A\u001b[A\n",
      "\n",
      "\n",
      "732it [00:11, 58.92it/s]\u001b[A\u001b[A\u001b[A\n",
      "\n",
      "\n",
      "748it [00:12, 48.06it/s]\u001b[A\u001b[A\u001b[A\n",
      "\n",
      "\n",
      "813it [00:12, 70.54it/s]\u001b[A\u001b[A\u001b[A\n",
      "\n",
      "\n",
      "851it [00:12, 73.71it/s]\u001b[A\u001b[A\u001b[A\n",
      "\n",
      "\n",
      "905it [00:13, 85.10it/s]\u001b[A\u001b[A\u001b[A\n",
      "\n",
      "\n",
      "915it [00:13, 68.21it/s]\u001b[A\u001b[A\u001b[A\n",
      "\n",
      "\n",
      "923it [00:14, 54.07it/s]\u001b[A\u001b[A\u001b[A\n",
      "\n",
      "\n",
      "971it [00:14, 68.08it/s]\u001b[A\u001b[A\u001b[A\n",
      "\n",
      "\n",
      "978it [00:15, 52.69it/s]\u001b[A\u001b[A\u001b[A\n",
      "\n",
      "\n",
      "1000it [00:15, 50.80it/s]\u001b[A\u001b[A\u001b[A\n",
      "\n",
      "\n",
      "1088it [00:16, 91.71it/s]\u001b[A\u001b[A\u001b[A\n",
      "\n",
      "\n",
      "1100it [00:17, 40.06it/s]\u001b[A\u001b[A\u001b[A\n",
      "\n",
      "\n",
      "1115it [00:18, 38.70it/s]\u001b[A\u001b[A\u001b[A\n",
      "\n",
      "\n",
      "1121it [00:18, 33.23it/s]\u001b[A\u001b[A\u001b[A\n",
      "\n",
      "\n",
      "1144it [00:19, 37.10it/s]\u001b[A\u001b[A\u001b[A\n",
      "\n",
      "\n",
      "1159it [00:19, 36.37it/s]\u001b[A\u001b[A\u001b[A\n",
      "\n",
      "\n",
      "1179it [00:20, 34.67it/s]\u001b[A\u001b[A\u001b[A\n",
      "\n",
      "\n",
      "1196it [00:20, 34.99it/s]\u001b[A\u001b[A\u001b[A\n",
      "\n",
      "\n",
      "1222it [00:21, 35.01it/s]\u001b[A\u001b[A\u001b[A\n",
      "\n",
      "\n",
      "1268it [00:22, 51.35it/s]\u001b[A\u001b[A\u001b[A\n",
      "\n",
      "\n",
      "1350it [00:22, 73.88it/s]\u001b[A\u001b[A\u001b[A\n",
      "\n",
      "\n",
      "1373it [00:23, 68.68it/s]\u001b[A\u001b[A\u001b[A\n",
      "\n",
      "\n",
      "1393it [00:23, 61.92it/s]\u001b[A\u001b[A\u001b[A\n",
      "\n",
      "\n",
      "1414it [00:24, 56.17it/s]\u001b[A\u001b[A\u001b[A\n",
      "\n",
      "\n",
      "1436it [00:24, 54.50it/s]\u001b[A\u001b[A\u001b[A\n",
      "\n",
      "\n",
      "1476it [00:25, 58.52it/s]\u001b[A\u001b[A\u001b[A\n",
      "\n",
      "\n",
      "1488it [00:25, 49.92it/s]\u001b[A\u001b[A\u001b[A\n",
      "\n",
      "\n",
      "1513it [00:26, 51.65it/s]\u001b[A\u001b[A\u001b[A\n",
      "\n",
      "\n",
      "1519it [00:26, 40.92it/s]\u001b[A\u001b[A\u001b[A\n",
      "\n",
      "\n",
      "1523it [00:27, 28.26it/s]\u001b[A\u001b[A\u001b[A\n",
      "\n",
      "\n",
      "1534it [00:27, 26.96it/s]\u001b[A\u001b[A\u001b[A\n",
      "\n",
      "\n",
      "1544it [00:28, 25.81it/s]\u001b[A\u001b[A\u001b[A\n",
      "\n",
      "\n",
      "1549it [00:29, 13.22it/s]\u001b[A\u001b[A\u001b[A\n",
      "\n",
      "\n",
      "1560it [00:30, 15.37it/s]\u001b[A\u001b[A\u001b[A\n",
      "\n",
      "\n",
      "1570it [00:30, 16.76it/s]\u001b[A\u001b[A\u001b[A\n",
      "\n",
      "\n",
      "1577it [00:30, 16.45it/s]\u001b[A\u001b[A\u001b[A\n",
      "\n",
      "\n",
      "1582it [00:31, 14.67it/s]\u001b[A\u001b[A\u001b[A\n",
      "\n",
      "\n",
      "1663it [00:31, 56.61it/s]\u001b[A\u001b[A\u001b[A\n",
      "\n",
      "\n",
      "1670it [00:32, 45.42it/s]\u001b[A\u001b[A\u001b[A\n",
      "\n",
      "\n",
      "1749it [00:32, 80.81it/s]\u001b[A\u001b[A\u001b[A\n",
      "\n",
      "\n",
      "1758it [00:33, 51.43it/s]\u001b[A\u001b[A\u001b[A\n",
      "\n",
      "\n",
      "1776it [00:34, 43.43it/s]\u001b[A\u001b[A\u001b[A\n",
      "\n",
      "\n",
      "1806it [00:34, 48.72it/s]\u001b[A\u001b[A\u001b[A\n",
      "\n",
      "\n",
      "1859it [00:35, 65.28it/s]\u001b[A\u001b[A\u001b[A\n",
      "\n",
      "\n",
      "1883it [00:35, 62.03it/s]\u001b[A\u001b[A\u001b[A\n",
      "\n",
      "\n",
      "1912it [00:36, 62.23it/s]\u001b[A\u001b[A\u001b[A\n",
      "\n",
      "\n",
      "1937it [00:36, 59.59it/s]\u001b[A\u001b[A\u001b[A\n",
      "\n",
      "\n",
      "1954it [00:37, 52.04it/s]\u001b[A\u001b[A\u001b[A\n",
      "\n",
      "\n",
      "1962it [00:37, 42.50it/s]\u001b[A\u001b[A\u001b[A\n",
      "\n",
      "\n",
      "1988it [00:38, 40.84it/s]\u001b[A\u001b[A\u001b[A\n",
      "\n",
      "\n",
      "2023it [00:39, 42.65it/s]\u001b[A\u001b[A\u001b[A\n",
      "\n",
      "\n",
      "2043it [00:39, 43.24it/s]\u001b[A\u001b[A\u001b[A\n",
      "\n",
      "\n",
      "2056it [00:39, 38.83it/s]\u001b[A\u001b[A\u001b[A\n",
      "\n",
      "\n",
      "2060it [00:40, 31.06it/s]\u001b[A\u001b[A\u001b[A\n",
      "\n",
      "\n",
      "2140it [00:40, 71.19it/s]\u001b[A\u001b[A\u001b[A\n",
      "\n",
      "\n",
      "2181it [00:41, 75.91it/s]\u001b[A\u001b[A\u001b[A\n",
      "\n",
      "\n",
      "2238it [00:41, 80.33it/s]\u001b[A\u001b[A\u001b[A\n",
      "\n",
      "\n",
      "2266it [00:42, 75.75it/s]\u001b[A\u001b[A\u001b[A\n",
      "\n",
      "\n",
      "2415it [00:42, 146.38it/s]\u001b[A\u001b[A\u001b[A\n",
      "\n",
      "\n",
      "2499it [00:43, 159.36it/s]\u001b[A\u001b[A\u001b[A\n",
      "\n",
      "\n",
      "2527it [00:43, 131.22it/s]\u001b[A\u001b[A\u001b[A\n",
      "\n",
      "\n",
      "2541it [00:44, 99.63it/s] \u001b[A\u001b[A\u001b[A\n",
      "\n",
      "\n",
      "2558it [00:44, 81.69it/s]\u001b[A\u001b[A\u001b[A\n",
      "\n",
      "\n",
      "2571it [00:45, 66.38it/s]\u001b[A\u001b[A\u001b[A\n",
      "\n",
      "\n",
      "2609it [00:45, 68.61it/s]\u001b[A\u001b[A\u001b[A\n",
      "\n",
      "\n",
      "2688it [00:46, 92.64it/s]\u001b[A\u001b[A\u001b[A\n",
      "\n",
      "\n",
      "2718it [00:46, 84.93it/s]\u001b[A\u001b[A\u001b[A\n",
      "\n",
      "\n",
      "2727it [00:47, 66.52it/s]\u001b[A\u001b[A\u001b[A\n",
      "\n",
      "\n",
      "2788it [00:48, 67.57it/s]\u001b[A\u001b[A\u001b[A\n",
      "\n",
      "\n",
      "2795it [00:48, 55.48it/s]\u001b[A\u001b[A\u001b[A\n",
      "\n",
      "\n",
      "2819it [00:48, 54.28it/s]\u001b[A\u001b[A\u001b[A\n",
      "\n",
      "\n",
      "2831it [00:49, 46.76it/s]\u001b[A\u001b[A\u001b[A\n",
      "\n",
      "\n",
      "2873it [00:49, 59.45it/s]\u001b[A\u001b[A\u001b[A\n",
      "\n",
      "\n",
      "2879it [00:50, 45.59it/s]\u001b[A\u001b[A\u001b[A\n",
      "\n",
      "\n",
      "2904it [00:50, 47.53it/s]\u001b[A\u001b[A\u001b[A\n",
      "\n",
      "\n",
      "3032it [00:51, 114.75it/s]\u001b[A\u001b[A\u001b[A\n",
      "\n",
      "\n",
      "3057it [00:51, 95.80it/s] \u001b[A\u001b[A\u001b[A\n",
      "\n",
      "\n",
      "3085it [00:52, 86.22it/s]\u001b[A\u001b[A\u001b[A\n",
      "\n",
      "\n",
      "3096it [00:52, 57.09it/s]\u001b[A\u001b[A\u001b[A\n",
      "\n",
      "\n",
      "3109it [00:53, 49.97it/s]\u001b[A\u001b[A\u001b[A\n",
      "\n",
      "\n",
      "3156it [00:53, 64.27it/s]\u001b[A\u001b[A\u001b[A\n",
      "\n",
      "\n",
      "3163it [00:54, 39.41it/s]\u001b[A\u001b[A\u001b[A\n",
      "\n",
      "\n",
      "3179it [00:55, 38.23it/s]\u001b[A\u001b[A\u001b[A\n",
      "\n",
      "\n",
      "3186it [00:55, 31.47it/s]\u001b[A\u001b[A\u001b[A\n",
      "\n",
      "\n",
      "3233it [00:56, 50.35it/s]\u001b[A\u001b[A\u001b[A\n",
      "\n",
      "\n",
      "3307it [00:56, 80.72it/s]\u001b[A\u001b[A\u001b[A\n",
      "\n",
      "\n",
      "3316it [00:57, 64.84it/s]\u001b[A\u001b[A\u001b[A\n",
      "\n",
      "\n",
      "3345it [00:57, 64.83it/s]\u001b[A\u001b[A\u001b[A\n",
      "\n",
      "\n",
      "3378it [00:57, 67.04it/s]\u001b[A\u001b[A\u001b[A\n",
      "\n",
      "\n",
      "3412it [00:58, 58.71it/s]\u001b[A\u001b[A\u001b[A\n",
      "\n",
      "\n",
      "3419it [00:59, 37.74it/s]\u001b[A\u001b[A\u001b[A\n",
      "\n",
      "\n",
      "3446it [01:00, 41.50it/s]\u001b[A\u001b[A\u001b[A\n",
      "\n",
      "\n",
      "3463it [01:00, 39.83it/s]\u001b[A\u001b[A\u001b[A\n",
      "\n",
      "\n",
      "3519it [01:01, 55.30it/s]\u001b[A\u001b[A\u001b[A\n",
      "\n",
      "\n",
      "3538it [01:01, 51.50it/s]\u001b[A\u001b[A\u001b[A\n",
      "\n",
      "\n",
      "3556it [01:02, 47.70it/s]\u001b[A\u001b[A\u001b[A\n",
      "\n",
      "\n",
      "3566it [01:02, 40.77it/s]\u001b[A\u001b[A\u001b[A\n",
      "\n",
      "\n",
      "3578it [01:03, 36.59it/s]\u001b[A\u001b[A\u001b[A\n",
      "\n",
      "\n",
      "3589it [01:03, 33.06it/s]\u001b[A\u001b[A\u001b[A\n",
      "\n",
      "\n",
      "3599it [01:03, 30.14it/s]\u001b[A\u001b[A\u001b[A\n",
      "\n",
      "\n",
      "3609it [01:04, 27.92it/s]\u001b[A\u001b[A\u001b[A\n",
      "\n",
      "\n",
      "3615it [01:04, 23.86it/s]\u001b[A\u001b[A\u001b[A\n",
      "\n",
      "\n",
      "3683it [01:05, 59.99it/s]\u001b[A\u001b[A\u001b[A\n",
      "\n",
      "\n",
      "3705it [01:05, 56.60it/s]\u001b[A\u001b[A\u001b[A\n",
      "\n",
      "\n",
      "3735it [01:07, 35.07it/s]\u001b[A\u001b[A\u001b[A\n",
      "\n",
      "\n",
      "3747it [01:07, 33.16it/s]\u001b[A\u001b[A\u001b[A\n",
      "\n",
      "\n",
      "3815it [01:08, 51.94it/s]\u001b[A\u001b[A\u001b[A\n",
      "\n",
      "\n",
      "3859it [01:09, 56.62it/s]\u001b[A\u001b[A\u001b[A\n",
      "\n",
      "\n",
      "3915it [01:09, 62.43it/s]\u001b[A\u001b[A\u001b[A\n",
      "\n",
      "\n",
      "3927it [01:10, 54.42it/s]\u001b[A\u001b[A\u001b[A\n",
      "\n",
      "\n",
      "3947it [01:10, 52.19it/s]\u001b[A\u001b[A\u001b[A\n",
      "\n",
      "\n",
      "3953it [01:11, 42.27it/s]\u001b[A\u001b[A\u001b[A\n",
      "\n",
      "\n",
      "3964it [01:11, 37.37it/s]\u001b[A\u001b[A\u001b[A\n",
      "\n",
      "\n",
      "4032it [01:12, 68.47it/s]\u001b[A\u001b[A\u001b[A\n",
      "\n",
      "\n",
      "4057it [01:12, 64.56it/s]\u001b[A\u001b[A\u001b[A\n",
      "\n",
      "\n",
      "4064it [01:13, 34.91it/s]\u001b[A\u001b[A\u001b[A\n",
      "\n",
      "\n",
      "4093it [01:14, 41.30it/s]\u001b[A\u001b[A\u001b[A\n",
      "\n",
      "\n",
      "4128it [01:14, 50.14it/s]\u001b[A\u001b[A\u001b[A\n",
      "\n",
      "\n",
      "4153it [01:15, 49.77it/s]\u001b[A\u001b[A\u001b[A\n",
      "\n",
      "\n",
      "4161it [01:15, 39.12it/s]\u001b[A\u001b[A\u001b[A\n",
      "\n",
      "\n",
      "4166it [01:16, 31.78it/s]\u001b[A\u001b[A\u001b[A\n",
      "\n",
      "\n",
      "4171it [01:16, 25.47it/s]\u001b[A\u001b[A\u001b[A\n",
      "\n",
      "\n",
      "4246it [01:17, 63.52it/s]\u001b[A\u001b[A\u001b[A\n",
      "\n",
      "\n",
      "4253it [01:17, 48.32it/s]\u001b[A\u001b[A\u001b[A\n",
      "\n",
      "\n",
      "4265it [01:18, 42.03it/s]\u001b[A\u001b[A\u001b[A\n",
      "\n",
      "\n",
      "4273it [01:18, 35.28it/s]\u001b[A\u001b[A\u001b[A\n",
      "\n",
      "\n",
      "4279it [01:19, 25.80it/s]\u001b[A\u001b[A\u001b[A\n",
      "\n",
      "\n",
      "4283it [01:19, 21.23it/s]\u001b[A\u001b[A\u001b[A\n",
      "\n",
      "\n",
      "4331it [01:20, 44.66it/s]\u001b[A\u001b[A\u001b[A\n",
      "\n",
      "\n",
      "4337it [01:20, 35.62it/s]\u001b[A\u001b[A\u001b[A\n",
      "\n",
      "\n",
      "4372it [01:21, 47.27it/s]\u001b[A\u001b[A\u001b[A\n",
      "\n",
      "\n",
      "4392it [01:21, 46.63it/s]\u001b[A\u001b[A\u001b[A\n",
      "\n",
      "\n",
      "4421it [01:21, 51.67it/s]\u001b[A\u001b[A\u001b[A\n",
      "\n",
      "\n",
      "4478it [01:22, 72.73it/s]\u001b[A\u001b[A\u001b[A\n",
      "\n",
      "\n",
      "4501it [01:22, 64.87it/s]\u001b[A\u001b[A\u001b[A\n",
      "\n",
      "\n",
      "4521it [01:23, 58.49it/s]\u001b[A\u001b[A\u001b[A\n",
      "\n",
      "\n",
      "4546it [01:23, 57.21it/s]\u001b[A\u001b[A\u001b[A\n",
      "\n",
      "\n",
      "4552it [01:24, 44.45it/s]\u001b[A\u001b[A\u001b[A\n",
      "\n",
      "\n",
      "4579it [01:24, 49.38it/s]\u001b[A\u001b[A\u001b[A\n",
      "\n",
      "\n",
      "4629it [01:25, 63.76it/s]\u001b[A\u001b[A\u001b[A\n",
      "\n",
      "\n",
      "4682it [01:25, 68.47it/s]\u001b[A\u001b[A\u001b[A\n",
      "\n",
      "\n",
      "4738it [01:26, 83.68it/s]\u001b[A\u001b[A\u001b[A\n",
      "\n",
      "\n",
      "4769it [01:26, 78.48it/s]\u001b[A\u001b[A\u001b[A\n",
      "\n",
      "\n",
      "4886it [01:27, 126.86it/s]\u001b[A\u001b[A\u001b[A\n",
      "\n",
      "\n",
      "4933it [01:27, 120.69it/s]\u001b[A\u001b[A\u001b[A\n",
      "\n",
      "\n",
      "4946it [01:28, 72.44it/s] \u001b[A\u001b[A\u001b[A\n",
      "\n",
      "\n",
      "4962it [01:29, 64.03it/s]\u001b[A\u001b[A\u001b[A\n",
      "\n",
      "\n",
      "5000it [01:29, 55.67it/s]\u001b[A\u001b[A\u001b[A\n"
     ]
    }
   ],
   "source": [
    "yet_invalid_DOI = {}\n",
    "for id_x,DOI in tqdm(enumerate(DOI_new)):\n",
    "    if DOI == 'invalid':\n",
    "        DOI_to_cor = DOI_column[id_x]\n",
    "        DOI_pot_cor = re.findall(DOI_pattern_2, DOI_to_cor)\n",
    "        if len(DOI_pot_cor)>0:\n",
    "            if is_valid_doi(DOI_pot_cor[0]):\n",
    "                DOI_new[id_x] = DOI_pot_cor[0]\n",
    "            else:\n",
    "                yet_invalid_DOI[id_x]=DOI_to_cor\n",
    "        else:\n",
    "            yet_invalid_DOI[id_x]=DOI_to_cor"
   ]
  },
  {
   "cell_type": "code",
   "execution_count": 76,
   "id": "36e16d0c",
   "metadata": {
    "ExecuteTime": {
     "end_time": "2023-03-04T20:05:04.900378Z",
     "start_time": "2023-03-04T20:05:04.888409Z"
    }
   },
   "outputs": [
    {
     "data": {
      "text/plain": [
       "{114: '10.1038/ncomms8',\n",
       " 136: '10.1016/j.mee.2004.03.068Microelectronic Engineering',\n",
       " 2057: '10.1016/S0026-2692(03)00137-XMicroelectronics Journal',\n",
       " 2790: '10.1016/j.snb.2004.06.015',\n",
       " 3095: '10.1016/S1350-4495(99)00047-XInfrared Physics & Technology',\n",
       " 3178: '10.3389/fpls.2014.00',\n",
       " 3555: '10.1002/jbio.201700',\n",
       " 4420: '10.1016/S0925-4005(99)00427-XSensors and Actuators B: Chemical',\n",
       " 4500: '10.1063/1.4765',\n",
       " 4681: '10.1016/S0038-092X(00)00013-XSolar Energy'}"
      ]
     },
     "execution_count": 76,
     "metadata": {},
     "output_type": "execute_result"
    }
   ],
   "source": [
    "yet_invalid_DOI"
   ]
  },
  {
   "cell_type": "code",
   "execution_count": 68,
   "id": "a783a4ff",
   "metadata": {
    "ExecuteTime": {
     "end_time": "2023-03-04T19:58:01.201077Z",
     "start_time": "2023-03-04T19:58:01.195092Z"
    }
   },
   "outputs": [
    {
     "data": {
      "text/plain": [
       "5000"
      ]
     },
     "execution_count": 68,
     "metadata": {},
     "output_type": "execute_result"
    }
   ],
   "source": [
    "len(DOI_new)"
   ]
  },
  {
   "cell_type": "code",
   "execution_count": 71,
   "id": "d58caafe",
   "metadata": {
    "ExecuteTime": {
     "end_time": "2023-03-04T20:01:40.126299Z",
     "start_time": "2023-03-04T20:01:40.104326Z"
    }
   },
   "outputs": [
    {
     "data": {
      "text/plain": [
       "173"
      ]
     },
     "execution_count": 71,
     "metadata": {},
     "output_type": "execute_result"
    }
   ],
   "source": [
    "DOI_new.count('invalid')"
   ]
  },
  {
   "cell_type": "code",
   "execution_count": 74,
   "id": "b8cadf05",
   "metadata": {
    "ExecuteTime": {
     "end_time": "2023-03-04T20:03:25.776900Z",
     "start_time": "2023-03-04T20:03:25.759949Z"
    }
   },
   "outputs": [],
   "source": [
    "DOI_new = DOI_new_backup.copy()"
   ]
  },
  {
   "cell_type": "code",
   "execution_count": 78,
   "id": "b61e545d",
   "metadata": {
    "ExecuteTime": {
     "end_time": "2023-03-04T20:23:14.278351Z",
     "start_time": "2023-03-04T20:23:14.257410Z"
    }
   },
   "outputs": [],
   "source": [
    "yet_invalid_DOI = {114: '10.1038/ncomms8',\n",
    " 136: '10.1016/j.mee.2004.03.068Microelectronic Engineering',\n",
    " 2057: '10.1016/S0026-2692(03)00137-XMicroelectronics Journal',\n",
    " 2790: '10.1016/j.snb.2004.06.015',\n",
    " 3095: '10.1016/S1350-4495(99)00047-XInfrared Physics & Technology',\n",
    " 3178: '10.3389/fpls.2014.00',\n",
    " 3555: '10.1002/jbio.201700',\n",
    " 4420: '10.1016/S0925-4005(99)00427-XSensors and Actuators B: Chemical',\n",
    " 4500: '10.1063/1.4765',\n",
    " 4681: '10.1016/S0038-092X(00)00013-XSolar Energy'}"
   ]
  },
  {
   "cell_type": "code",
   "execution_count": 85,
   "id": "e6f1d202",
   "metadata": {
    "ExecuteTime": {
     "end_time": "2023-03-04T20:29:47.458611Z",
     "start_time": "2023-03-04T20:29:47.449633Z"
    }
   },
   "outputs": [],
   "source": [
    "DOI_new[114] = 'NA'\n",
    "DOI_new[136] = '10.1016/j.mee.2004.03.068'\n",
    "DOI_new[2057] = '10.1016/S0026-2692(03)00137-X'\n",
    "DOI_new[2790] = '10.1016/j.snb.2004.06.015'\n",
    "DOI_new[3095] = '10.1016/S1350-4495(99)00047-X'\n",
    "DOI_new[3178] = 'NA'\n",
    "DOI_new[3555] = 'NA'\n",
    "DOI_new[4420] = '10.1016/S0925-4005(99)00427-X'\n",
    "DOI_new[4500] = 'NA'\n",
    "DOI_new[4681] = '10.1016/S0038-092X(00)00013-X'"
   ]
  },
  {
   "cell_type": "code",
   "execution_count": 90,
   "id": "af83e81b",
   "metadata": {
    "ExecuteTime": {
     "end_time": "2023-03-04T20:34:07.130707Z",
     "start_time": "2023-03-04T20:34:07.107738Z"
    }
   },
   "outputs": [],
   "source": [
    "data['DOI'] = DOI_new"
   ]
  },
  {
   "cell_type": "code",
   "execution_count": 93,
   "id": "9e349287",
   "metadata": {
    "ExecuteTime": {
     "end_time": "2023-03-04T20:36:14.741095Z",
     "start_time": "2023-03-04T20:36:14.670767Z"
    }
   },
   "outputs": [],
   "source": [
    "data.to_csv('data_2_DOI_new.tsv', sep='\\t')"
   ]
  },
  {
   "cell_type": "code",
   "execution_count": 95,
   "id": "e0c60e96",
   "metadata": {
    "ExecuteTime": {
     "end_time": "2023-03-04T20:43:10.665689Z",
     "start_time": "2023-03-04T20:42:52.353033Z"
    }
   },
   "outputs": [
    {
     "name": "stdout",
     "output_type": "stream",
     "text": [
      "Collecting crossref-commons\n",
      "  Downloading crossref_commons-0.0.7-py3-none-any.whl (14 kB)\n",
      "Collecting ratelimit>=2.2.1\n",
      "  Downloading ratelimit-2.2.1.tar.gz (5.3 kB)\n",
      "  Preparing metadata (setup.py): started\n",
      "  Preparing metadata (setup.py): finished with status 'done'\n",
      "Requirement already satisfied: requests>=2.18.4 in c:\\users\\bocha\\appdata\\local\\programs\\python\\python310\\lib\\site-packages (from crossref-commons) (2.28.1)\n",
      "Requirement already satisfied: certifi>=2017.4.17 in c:\\users\\bocha\\appdata\\local\\programs\\python\\python310\\lib\\site-packages (from requests>=2.18.4->crossref-commons) (2022.6.15.1)\n",
      "Requirement already satisfied: charset-normalizer<3,>=2 in c:\\users\\bocha\\appdata\\local\\programs\\python\\python310\\lib\\site-packages (from requests>=2.18.4->crossref-commons) (2.1.1)\n",
      "Requirement already satisfied: urllib3<1.27,>=1.21.1 in c:\\users\\bocha\\appdata\\local\\programs\\python\\python310\\lib\\site-packages (from requests>=2.18.4->crossref-commons) (1.26.12)\n",
      "Requirement already satisfied: idna<4,>=2.5 in c:\\users\\bocha\\appdata\\local\\programs\\python\\python310\\lib\\site-packages (from requests>=2.18.4->crossref-commons) (3.3)\n",
      "Building wheels for collected packages: ratelimit\n",
      "  Building wheel for ratelimit (setup.py): started\n",
      "  Building wheel for ratelimit (setup.py): finished with status 'done'\n",
      "  Created wheel for ratelimit: filename=ratelimit-2.2.1-py3-none-any.whl size=5944 sha256=efa5253c0898d32057e18d349b5489cc01cfee250cfee106fd3a93b43e5e88cb\n",
      "  Stored in directory: c:\\users\\bocha\\appdata\\local\\pip\\cache\\wheels\\27\\5f\\ba\\e972a56dcbf5de9f2b7d2b2a710113970bd173c4dcd3d2c902\n",
      "Successfully built ratelimit\n",
      "Installing collected packages: ratelimit, crossref-commons\n",
      "Successfully installed crossref-commons-0.0.7 ratelimit-2.2.1\n",
      "Note: you may need to restart the kernel to use updated packages.\n"
     ]
    },
    {
     "name": "stderr",
     "output_type": "stream",
     "text": [
      "WARNING: Ignoring invalid distribution -ip (c:\\users\\bocha\\appdata\\local\\programs\\python\\python310\\lib\\site-packages)\n",
      "WARNING: Ignoring invalid distribution -ip (c:\\users\\bocha\\appdata\\local\\programs\\python\\python310\\lib\\site-packages)\n",
      "WARNING: Ignoring invalid distribution -ip (c:\\users\\bocha\\appdata\\local\\programs\\python\\python310\\lib\\site-packages)\n",
      "WARNING: Ignoring invalid distribution -ip (c:\\users\\bocha\\appdata\\local\\programs\\python\\python310\\lib\\site-packages)\n",
      "WARNING: Ignoring invalid distribution -ip (c:\\users\\bocha\\appdata\\local\\programs\\python\\python310\\lib\\site-packages)\n",
      "WARNING: Ignoring invalid distribution -ip (c:\\users\\bocha\\appdata\\local\\programs\\python\\python310\\lib\\site-packages)\n",
      "WARNING: Ignoring invalid distribution -ip (c:\\users\\bocha\\appdata\\local\\programs\\python\\python310\\lib\\site-packages)\n",
      "WARNING: Ignoring invalid distribution -ip (c:\\users\\bocha\\appdata\\local\\programs\\python\\python310\\lib\\site-packages)\n"
     ]
    }
   ],
   "source": [
    "pip install crossref-commons"
   ]
  },
  {
   "cell_type": "code",
   "execution_count": 96,
   "id": "eeeffc11",
   "metadata": {
    "ExecuteTime": {
     "end_time": "2023-03-04T20:43:32.187194Z",
     "start_time": "2023-03-04T20:43:32.161836Z"
    }
   },
   "outputs": [],
   "source": [
    "import crossref_commons.retrieval"
   ]
  },
  {
   "cell_type": "code",
   "execution_count": 98,
   "id": "d7639917",
   "metadata": {
    "ExecuteTime": {
     "end_time": "2023-03-04T20:47:41.116942Z",
     "start_time": "2023-03-04T20:47:40.629120Z"
    }
   },
   "outputs": [],
   "source": [
    "tmp = crossref_commons.retrieval.get_publication_as_json('10.1016/j.jallcom.2017.03.270')"
   ]
  },
  {
   "cell_type": "code",
   "execution_count": 99,
   "id": "0c2d121b",
   "metadata": {
    "ExecuteTime": {
     "end_time": "2023-03-04T20:48:30.739928Z",
     "start_time": "2023-03-04T20:48:30.732913Z"
    }
   },
   "outputs": [
    {
     "name": "stdout",
     "output_type": "stream",
     "text": [
      "indexed\n",
      "reference-count\n",
      "publisher\n",
      "license\n",
      "funder\n",
      "content-domain\n",
      "short-container-title\n",
      "published-print\n",
      "DOI\n",
      "type\n",
      "created\n",
      "page\n",
      "update-policy\n",
      "source\n",
      "is-referenced-by-count\n",
      "title\n",
      "prefix\n",
      "volume\n",
      "author\n",
      "member\n",
      "reference\n",
      "container-title\n",
      "original-title\n",
      "language\n",
      "link\n",
      "deposited\n",
      "score\n",
      "resource\n",
      "subtitle\n",
      "short-title\n",
      "issued\n",
      "references-count\n",
      "alternative-id\n",
      "URL\n",
      "relation\n",
      "ISSN\n",
      "issn-type\n",
      "subject\n",
      "published\n",
      "assertion\n"
     ]
    }
   ],
   "source": [
    "for key,value in tmp.items():\n",
    "    print(key)"
   ]
  },
  {
   "cell_type": "code",
   "execution_count": 100,
   "id": "72d8f99d",
   "metadata": {
    "ExecuteTime": {
     "end_time": "2023-03-04T20:48:48.864920Z",
     "start_time": "2023-03-04T20:48:48.845941Z"
    }
   },
   "outputs": [
    {
     "data": {
      "text/plain": [
       "{'indexed': {'date-parts': [[2022, 12, 31]],\n",
       "  'date-time': '2022-12-31T11:11:56Z',\n",
       "  'timestamp': 1672485116510},\n",
       " 'reference-count': 22,\n",
       " 'publisher': 'Elsevier BV',\n",
       " 'license': [{'start': {'date-parts': [[2017, 7, 1]],\n",
       "    'date-time': '2017-07-01T00:00:00Z',\n",
       "    'timestamp': 1498867200000},\n",
       "   'content-version': 'tdm',\n",
       "   'delay-in-days': 0,\n",
       "   'URL': 'https://www.elsevier.com/tdm/userlicense/1.0/'}],\n",
       " 'funder': [{'DOI': '10.13039/501100004085',\n",
       "   'name': 'Ministry of Education, Science and Technology',\n",
       "   'doi-asserted-by': 'publisher',\n",
       "   'award': ['NRF-2015R1A1A1A05027848']},\n",
       "  {'DOI': '10.13039/501100003725',\n",
       "   'name': 'National Research Foundation of Korea',\n",
       "   'doi-asserted-by': 'publisher'}],\n",
       " 'content-domain': {'domain': ['elsevier.com', 'sciencedirect.com'],\n",
       "  'crossmark-restriction': True},\n",
       " 'short-container-title': ['Journal of Alloys and Compounds'],\n",
       " 'published-print': {'date-parts': [[2017, 7]]},\n",
       " 'DOI': '10.1016/j.jallcom.2017.03.270',\n",
       " 'type': 'journal-article',\n",
       " 'created': {'date-parts': [[2017, 3, 23]],\n",
       "  'date-time': '2017-03-23T19:33:21Z',\n",
       "  'timestamp': 1490297601000},\n",
       " 'page': '399-402',\n",
       " 'update-policy': 'http://dx.doi.org/10.1016/elsevier_cm_policy',\n",
       " 'source': 'Crossref',\n",
       " 'is-referenced-by-count': 8,\n",
       " 'title': ['Improving light extraction in light-emitting diodes using zinc-tin-oxide layers'],\n",
       " 'prefix': '10.1016',\n",
       " 'volume': '710',\n",
       " 'author': [{'given': 'T.G.',\n",
       "   'family': 'Kim',\n",
       "   'sequence': 'first',\n",
       "   'affiliation': []},\n",
       "  {'given': 'D.S.',\n",
       "   'family': 'Shin',\n",
       "   'sequence': 'additional',\n",
       "   'affiliation': []},\n",
       "  {'given': 'K.-Y.',\n",
       "   'family': 'Jung',\n",
       "   'sequence': 'additional',\n",
       "   'affiliation': []},\n",
       "  {'given': 'A.N.',\n",
       "   'family': 'Kadam',\n",
       "   'sequence': 'additional',\n",
       "   'affiliation': []},\n",
       "  {'given': 'J.',\n",
       "   'family': 'Park',\n",
       "   'sequence': 'additional',\n",
       "   'affiliation': []}],\n",
       " 'member': '78',\n",
       " 'reference': [{'key': '10.1016/j.jallcom.2017.03.270_bib1',\n",
       "   'doi-asserted-by': 'crossref',\n",
       "   'first-page': '2211',\n",
       "   'DOI': '10.1109/JPROC.2013.2274929',\n",
       "   'article-title': 'History of gallium-nitride-based light-emitting diodes for illumination',\n",
       "   'volume': '101',\n",
       "   'author': 'Nakamura',\n",
       "   'year': '2013',\n",
       "   'journal-title': 'Proc. IEEE'},\n",
       "  {'key': '10.1016/j.jallcom.2017.03.270_bib2',\n",
       "   'doi-asserted-by': 'crossref',\n",
       "   'first-page': '29',\n",
       "   'DOI': '10.1016/j.rser.2014.08.028',\n",
       "   'article-title': 'A\\xa0review on light-emitting diode based automotive headlamps',\n",
       "   'volume': '41',\n",
       "   'author': 'Long',\n",
       "   'year': '2015',\n",
       "   'journal-title': 'Renew. Sustain. Energy Rev.'},\n",
       "  {'key': '10.1016/j.jallcom.2017.03.270_bib3',\n",
       "   'doi-asserted-by': 'crossref',\n",
       "   'first-page': '28707',\n",
       "   'DOI': '10.1364/OE.23.028707',\n",
       "   'article-title': 'Highly efficient narrow-band green and red phosphors enabling wider color-gamut LED backlight for more brilliant displays',\n",
       "   'volume': '23',\n",
       "   'author': 'Wang',\n",
       "   'year': '2015',\n",
       "   'journal-title': 'Opt. Express'},\n",
       "  {'key': '10.1016/j.jallcom.2017.03.270_bib4',\n",
       "   'doi-asserted-by': 'crossref',\n",
       "   'first-page': '054510',\n",
       "   'DOI': '10.1063/1.3632072',\n",
       "   'article-title': 'Optically functional surface composed of patterned graded-refractive-index coatings to enhance light-extraction of GaInN light-emitting diodes',\n",
       "   'volume': '110',\n",
       "   'author': 'Noemaun',\n",
       "   'year': '2011',\n",
       "   'journal-title': 'J.\\xa0Appl. Phys.'},\n",
       "  {'key': '10.1016/j.jallcom.2017.03.270_bib5',\n",
       "   'doi-asserted-by': 'crossref',\n",
       "   'first-page': '855',\n",
       "   'DOI': '10.1063/1.1645992',\n",
       "   'article-title': 'Increase in the extraction efficiency of GaN-based light-emitting diodes via surface roughening',\n",
       "   'volume': '84',\n",
       "   'author': 'Fujii',\n",
       "   'year': '2014',\n",
       "   'journal-title': 'Appl. Phys. Lett.'},\n",
       "  {'key': '10.1016/j.jallcom.2017.03.270_bib6',\n",
       "   'doi-asserted-by': 'crossref',\n",
       "   'first-page': '1071',\n",
       "   'DOI': '10.1364/OE.22.0A1071',\n",
       "   'article-title': 'Enhanced light extraction from GaN Based light-emitting diodes using a hemispherical NiCoO lens',\n",
       "   'volume': '22',\n",
       "   'author': 'Kim',\n",
       "   'year': '2014',\n",
       "   'journal-title': 'Opt. Express'},\n",
       "  {'key': '10.1016/j.jallcom.2017.03.270_bib7',\n",
       "   'doi-asserted-by': 'crossref',\n",
       "   'first-page': '449',\n",
       "   'DOI': '10.1109/LPT.2011.2180523',\n",
       "   'article-title': 'Improvement of light extraction efficiency and reduction of leakage current in GaN-based LED via V-Pit formation',\n",
       "   'volume': '24',\n",
       "   'author': 'Koike',\n",
       "   'year': '2012',\n",
       "   'journal-title': 'IEEE Photonics Tech. Lett.'},\n",
       "  {'key': '10.1016/j.jallcom.2017.03.270_bib8',\n",
       "   'doi-asserted-by': 'crossref',\n",
       "   'first-page': '380',\n",
       "   'DOI': '10.1016/j.mssp.2014.08.005',\n",
       "   'article-title': 'Improved light extraction efficiency and leakage characteristics in light-emitting diodes by nanorod arrays formed on hexagonal pits',\n",
       "   'volume': '29',\n",
       "   'author': 'Son',\n",
       "   'year': '2015',\n",
       "   'journal-title': 'Mat. Sci. Semicond. Process.'},\n",
       "  {'key': '10.1016/j.jallcom.2017.03.270_bib9',\n",
       "   'doi-asserted-by': 'crossref',\n",
       "   'first-page': '035101',\n",
       "   'DOI': '10.1088/0022-3727/48/3/035101',\n",
       "   'article-title': 'Improved device performance of solution-processed zinc–tin–oxide thin film transistor effects using graphene/Al electrode',\n",
       "   'volume': '48',\n",
       "   'author': 'Kim',\n",
       "   'year': '2015',\n",
       "   'journal-title': 'J.\\xa0Phys. D. Appl. Phys.'},\n",
       "  {'key': '10.1016/j.jallcom.2017.03.270_bib10',\n",
       "   'doi-asserted-by': 'crossref',\n",
       "   'first-page': '32',\n",
       "   'DOI': '10.1016/j.ssc.2016.03.011',\n",
       "   'article-title': 'Soft X-ray absorption and photoemission spectroscopy study of semiconductor oxide nanoparticles for dye-sensitized solar cell: ZnSnO3 and Zn2SnO4',\n",
       "   'volume': '236',\n",
       "   'author': 'Kim',\n",
       "   'year': '2016',\n",
       "   'journal-title': 'Solid State Commun.'},\n",
       "  {'key': '10.1016/j.jallcom.2017.03.270_bib11',\n",
       "   'doi-asserted-by': 'crossref',\n",
       "   'first-page': '6176',\n",
       "   'DOI': '10.1039/C6TC00887A',\n",
       "   'article-title': 'Tunable UV response and high performance of zinc stannate nanoparticle film photodetectors',\n",
       "   'volume': '4',\n",
       "   'author': 'Liu',\n",
       "   'year': '2016',\n",
       "   'journal-title': 'J.\\xa0Mater. Chem. C'},\n",
       "  {'key': '10.1016/j.jallcom.2017.03.270_bib12',\n",
       "   'first-page': '224',\n",
       "   'article-title': 'Characteristics of indium-free ZTO/Ag/ZTO multilayer electrode grown on glass substrate at room temperature',\n",
       "   'volume': '13',\n",
       "   'author': 'Shin',\n",
       "   'year': '2012',\n",
       "   'journal-title': 'J.\\xa0Ceram. Process. Res.'},\n",
       "  {'key': '10.1016/j.jallcom.2017.03.270_bib13',\n",
       "   'doi-asserted-by': 'crossref',\n",
       "   'first-page': '5218',\n",
       "   'DOI': '10.1021/acs.jpcc.5b00282',\n",
       "   'article-title': 'Study of ZnSnO3-nanowire piezophotocatalyst using two-step hydrothermal synthesis',\n",
       "   'volume': '119',\n",
       "   'author': 'Lo',\n",
       "   'year': '2015',\n",
       "   'journal-title': 'J.\\xa0Phys. Chem. C'},\n",
       "  {'key': '10.1016/j.jallcom.2017.03.270_bib14',\n",
       "   'doi-asserted-by': 'crossref',\n",
       "   'first-page': '880',\n",
       "   'DOI': '10.1016/j.tsf.2006.07.050',\n",
       "   'article-title': 'Effect of deposition conditions on the characteristics of ZnO-SnO2 thin films deposited by filtered vacuum arc',\n",
       "   'volume': '515',\n",
       "   'author': 'Cetinorgu',\n",
       "   'year': '2016',\n",
       "   'journal-title': 'Thin Solid Films'},\n",
       "  {'key': '10.1016/j.jallcom.2017.03.270_bib15',\n",
       "   'doi-asserted-by': 'crossref',\n",
       "   'first-page': '221111',\n",
       "   'DOI': '10.1063/1.3041644',\n",
       "   'article-title': 'Elimination of total internal reflection in GaInN light-emitting diodes by graded-refractive-index micropillars',\n",
       "   'volume': '93',\n",
       "   'author': 'Kim',\n",
       "   'year': '2008',\n",
       "   'journal-title': 'Appl. Phys. Lett.'},\n",
       "  {'key': '10.1016/j.jallcom.2017.03.270_bib16',\n",
       "   'doi-asserted-by': 'crossref',\n",
       "   'first-page': '33',\n",
       "   'DOI': '10.1021/cr00099a003',\n",
       "   'article-title': 'The sol-gel process',\n",
       "   'volume': '90',\n",
       "   'author': 'Hench',\n",
       "   'year': '1990',\n",
       "   'journal-title': 'ACS Chem. Rev.'},\n",
       "  {'key': '10.1016/j.jallcom.2017.03.270_bib17',\n",
       "   'doi-asserted-by': 'crossref',\n",
       "   'first-page': '157',\n",
       "   'DOI': '10.1016/j.jallcom.2014.05.019',\n",
       "   'article-title': 'Enhancement of light extraction in GaN-based light-emitting diodes by Al2O3-Coated ZnO nanorod arrays',\n",
       "   'volume': '611',\n",
       "   'author': 'Park',\n",
       "   'year': '2014',\n",
       "   'journal-title': 'J.\\xa0Alloys Compd.'},\n",
       "  {'key': '10.1016/j.jallcom.2017.03.270_bib18',\n",
       "   'doi-asserted-by': 'crossref',\n",
       "   'first-page': '151',\n",
       "   'DOI': '10.1021/la304581c',\n",
       "   'article-title': 'High-performance transistors based on zinc tin oxide by single spin-coating process',\n",
       "   'volume': '29',\n",
       "   'author': 'Zhoa',\n",
       "   'year': '2012',\n",
       "   'journal-title': 'ACS Langmuir'},\n",
       "  {'key': '10.1016/j.jallcom.2017.03.270_bib19',\n",
       "   'doi-asserted-by': 'crossref',\n",
       "   'first-page': '1540',\n",
       "   'DOI': '10.1016/j.matlet.2003.10.023',\n",
       "   'article-title': 'Study of sol-gel-derived high tin content indium tin oxide (ITO) films on silica-coated soda lime silica glass',\n",
       "   'volume': '58',\n",
       "   'author': 'Biswas',\n",
       "   'year': '2004',\n",
       "   'journal-title': 'Mater. Lett.'},\n",
       "  {'key': '10.1016/j.jallcom.2017.03.270_bib20',\n",
       "   'doi-asserted-by': 'crossref',\n",
       "   'first-page': '3255',\n",
       "   'DOI': '10.1021/am400110y',\n",
       "   'article-title': 'Photobias instability of high performance solution processed amorphous zinc tin oxide transistors',\n",
       "   'volume': '5',\n",
       "   'author': 'Kim',\n",
       "   'year': '2013',\n",
       "   'journal-title': 'ACS Appl. Mater. Interfaces'},\n",
       "  {'key': '10.1016/j.jallcom.2017.03.270_bib21',\n",
       "   'doi-asserted-by': 'crossref',\n",
       "   'first-page': '552',\n",
       "   'DOI': '10.1016/j.commatsci.2010.05.049',\n",
       "   'article-title': 'Structural identification, electronic and optical properties of ZnSnO3: first principle calculations',\n",
       "   'volume': '49',\n",
       "   'author': 'Gou',\n",
       "   'year': '2010',\n",
       "   'journal-title': 'Comput. Mater. Sci.'},\n",
       "  {'key': '10.1016/j.jallcom.2017.03.270_bib22',\n",
       "   'doi-asserted-by': 'crossref',\n",
       "   'first-page': '801',\n",
       "   'DOI': '10.1002/adma.200701015',\n",
       "   'article-title': 'Light-extraction enhanced of GaInN light-emitting diodes by graded-refractive-index indium tin oxide anti-reflection contact',\n",
       "   'volume': '20',\n",
       "   'author': 'Kim',\n",
       "   'year': '2008',\n",
       "   'journal-title': 'Adv. Mater.'}],\n",
       " 'container-title': ['Journal of Alloys and Compounds'],\n",
       " 'original-title': [],\n",
       " 'language': 'en',\n",
       " 'link': [{'URL': 'https://api.elsevier.com/content/article/PII:S0925838817310721?httpAccept=text/xml',\n",
       "   'content-type': 'text/xml',\n",
       "   'content-version': 'vor',\n",
       "   'intended-application': 'text-mining'},\n",
       "  {'URL': 'https://api.elsevier.com/content/article/PII:S0925838817310721?httpAccept=text/plain',\n",
       "   'content-type': 'text/plain',\n",
       "   'content-version': 'vor',\n",
       "   'intended-application': 'text-mining'}],\n",
       " 'deposited': {'date-parts': [[2022, 7, 3]],\n",
       "  'date-time': '2022-07-03T22:09:36Z',\n",
       "  'timestamp': 1656886176000},\n",
       " 'score': 1,\n",
       " 'resource': {'primary': {'URL': 'https://linkinghub.elsevier.com/retrieve/pii/S0925838817310721'}},\n",
       " 'subtitle': [],\n",
       " 'short-title': [],\n",
       " 'issued': {'date-parts': [[2017, 7]]},\n",
       " 'references-count': 22,\n",
       " 'alternative-id': ['S0925838817310721'],\n",
       " 'URL': 'http://dx.doi.org/10.1016/j.jallcom.2017.03.270',\n",
       " 'relation': {},\n",
       " 'ISSN': ['0925-8388'],\n",
       " 'issn-type': [{'value': '0925-8388', 'type': 'print'}],\n",
       " 'subject': ['Materials Chemistry',\n",
       "  'Metals and Alloys',\n",
       "  'Mechanical Engineering',\n",
       "  'Mechanics of Materials'],\n",
       " 'published': {'date-parts': [[2017, 7]]},\n",
       " 'assertion': [{'value': 'Elsevier',\n",
       "   'name': 'publisher',\n",
       "   'label': 'This article is maintained by'},\n",
       "  {'value': 'Improving light extraction in light-emitting diodes using zinc-tin-oxide layers',\n",
       "   'name': 'articletitle',\n",
       "   'label': 'Article Title'},\n",
       "  {'value': 'Journal of Alloys and Compounds',\n",
       "   'name': 'journaltitle',\n",
       "   'label': 'Journal Title'},\n",
       "  {'value': 'https://doi.org/10.1016/j.jallcom.2017.03.270',\n",
       "   'name': 'articlelink',\n",
       "   'label': 'CrossRef DOI link to publisher maintained version'},\n",
       "  {'value': 'article', 'name': 'content_type', 'label': 'Content Type'},\n",
       "  {'value': '© 2017 Elsevier B.V. All rights reserved.',\n",
       "   'name': 'copyright',\n",
       "   'label': 'Copyright'}]}"
      ]
     },
     "execution_count": 100,
     "metadata": {},
     "output_type": "execute_result"
    }
   ],
   "source": [
    "tmp"
   ]
  },
  {
   "cell_type": "code",
   "execution_count": 103,
   "id": "75b59e65",
   "metadata": {
    "ExecuteTime": {
     "end_time": "2023-03-04T20:55:01.391966Z",
     "start_time": "2023-03-04T20:55:01.372023Z"
    }
   },
   "outputs": [
    {
     "data": {
      "text/plain": [
       "[2022, 12, 31]"
      ]
     },
     "execution_count": 103,
     "metadata": {},
     "output_type": "execute_result"
    }
   ],
   "source": [
    "tmp['indexed']['date-parts'][0]"
   ]
  },
  {
   "cell_type": "code",
   "execution_count": 106,
   "id": "fee601b4",
   "metadata": {
    "ExecuteTime": {
     "end_time": "2023-03-04T20:58:41.772458Z",
     "start_time": "2023-03-04T20:58:41.763452Z"
    }
   },
   "outputs": [],
   "source": [
    "publish_date = f\"{tmp['indexed']['date-parts'][0][1]}/{tmp['indexed']['date-parts'][0][2]}/{tmp['indexed']['date-parts'][0][0]}\""
   ]
  },
  {
   "cell_type": "code",
   "execution_count": 107,
   "id": "ee614ce0",
   "metadata": {
    "ExecuteTime": {
     "end_time": "2023-03-04T20:58:42.424236Z",
     "start_time": "2023-03-04T20:58:42.413264Z"
    }
   },
   "outputs": [
    {
     "data": {
      "text/plain": [
       "'12/31/2022'"
      ]
     },
     "execution_count": 107,
     "metadata": {},
     "output_type": "execute_result"
    }
   ],
   "source": [
    "publish_date"
   ]
  },
  {
   "cell_type": "code",
   "execution_count": 108,
   "id": "34ff74da",
   "metadata": {
    "ExecuteTime": {
     "end_time": "2023-03-04T21:00:28.248334Z",
     "start_time": "2023-03-04T21:00:28.239325Z"
    }
   },
   "outputs": [],
   "source": [
    "article_title = tmp['title'][0]"
   ]
  },
  {
   "cell_type": "code",
   "execution_count": 109,
   "id": "d72836da",
   "metadata": {
    "ExecuteTime": {
     "end_time": "2023-03-04T21:00:33.691423Z",
     "start_time": "2023-03-04T21:00:33.670445Z"
    }
   },
   "outputs": [
    {
     "data": {
      "text/plain": [
       "'Improving light extraction in light-emitting diodes using zinc-tin-oxide layers'"
      ]
     },
     "execution_count": 109,
     "metadata": {},
     "output_type": "execute_result"
    }
   ],
   "source": [
    "article_title"
   ]
  },
  {
   "cell_type": "code",
   "execution_count": 111,
   "id": "6381c3ec",
   "metadata": {
    "ExecuteTime": {
     "end_time": "2023-03-04T21:04:02.887420Z",
     "start_time": "2023-03-04T21:04:02.873457Z"
    }
   },
   "outputs": [
    {
     "name": "stdout",
     "output_type": "stream",
     "text": [
      "['Journal of Alloys and Compounds']\n",
      "['Journal of Alloys and Compounds']\n",
      "[]\n"
     ]
    }
   ],
   "source": [
    "print(tmp['short-container-title'])\n",
    "print(tmp['container-title'])\n",
    "print(tmp['original-title'])"
   ]
  },
  {
   "cell_type": "code",
   "execution_count": 112,
   "id": "b95892d7",
   "metadata": {
    "ExecuteTime": {
     "end_time": "2023-03-04T21:05:33.008105Z",
     "start_time": "2023-03-04T21:05:32.986657Z"
    }
   },
   "outputs": [],
   "source": [
    "journal_title = tmp['short-container-title'][0]"
   ]
  },
  {
   "cell_type": "code",
   "execution_count": 113,
   "id": "df41db44",
   "metadata": {
    "ExecuteTime": {
     "end_time": "2023-03-04T21:05:37.616018Z",
     "start_time": "2023-03-04T21:05:37.595075Z"
    }
   },
   "outputs": [
    {
     "data": {
      "text/plain": [
       "'Journal of Alloys and Compounds'"
      ]
     },
     "execution_count": 113,
     "metadata": {},
     "output_type": "execute_result"
    }
   ],
   "source": [
    "journal_title"
   ]
  },
  {
   "cell_type": "code",
   "execution_count": null,
   "id": "e81489c0",
   "metadata": {},
   "outputs": [],
   "source": [
    "#to do: сделать функцию\n",
    "#проверка1: АПИ вернуло что-то (лен тмп больше 0)\n",
    "#проверка2: indexed, title, short-container-title ЕСТЬ -> (try (выполнить) exept ('NA'))\n",
    "#сделать словарь: ключ - DOI, значения - лист(indexed, title, short-container-title) -> pandas.df -> примёрджить к нашей data по DOI"
   ]
  }
 ],
 "metadata": {
  "kernelspec": {
   "display_name": "Python 3 (ipykernel)",
   "language": "python",
   "name": "python3"
  },
  "language_info": {
   "codemirror_mode": {
    "name": "ipython",
    "version": 3
   },
   "file_extension": ".py",
   "mimetype": "text/x-python",
   "name": "python",
   "nbconvert_exporter": "python",
   "pygments_lexer": "ipython3",
   "version": "3.10.4"
  },
  "toc": {
   "base_numbering": 1,
   "nav_menu": {},
   "number_sections": true,
   "sideBar": true,
   "skip_h1_title": false,
   "title_cell": "Table of Contents",
   "title_sidebar": "Contents",
   "toc_cell": false,
   "toc_position": {
    "height": "calc(100% - 180px)",
    "left": "10px",
    "top": "150px",
    "width": "193px"
   },
   "toc_section_display": true,
   "toc_window_display": true
  },
  "varInspector": {
   "cols": {
    "lenName": 16,
    "lenType": 16,
    "lenVar": 40
   },
   "kernels_config": {
    "python": {
     "delete_cmd_postfix": "",
     "delete_cmd_prefix": "del ",
     "library": "var_list.py",
     "varRefreshCmd": "print(var_dic_list())"
    },
    "r": {
     "delete_cmd_postfix": ") ",
     "delete_cmd_prefix": "rm(",
     "library": "var_list.r",
     "varRefreshCmd": "cat(var_dic_list()) "
    }
   },
   "types_to_exclude": [
    "module",
    "function",
    "builtin_function_or_method",
    "instance",
    "_Feature"
   ],
   "window_display": false
  }
 },
 "nbformat": 4,
 "nbformat_minor": 5
}
