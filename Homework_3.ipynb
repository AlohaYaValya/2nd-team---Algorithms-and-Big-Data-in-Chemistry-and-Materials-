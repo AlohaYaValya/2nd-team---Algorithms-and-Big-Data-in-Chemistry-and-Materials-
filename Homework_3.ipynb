{
 "cells": [
  {
   "cell_type": "markdown",
   "id": "e68841fc",
   "metadata": {},
   "source": [
    "# Homework №3 - Сlustering"
   ]
  },
  {
   "cell_type": "code",
   "execution_count": 1,
   "id": "43306534",
   "metadata": {
    "ExecuteTime": {
     "end_time": "2023-03-25T05:59:34.198225Z",
     "start_time": "2023-03-25T05:58:51.217995Z"
    }
   },
   "outputs": [],
   "source": [
    "import numpy as np\n",
    "import pandas as pd\n",
    "import matplotlib.pyplot as plt\n",
    "import seaborn as sns\n",
    "from sklearn.cluster import KMeans\n",
    "from sklearn.preprocessing import StandardScaler, LabelEncoder, OneHotEncoder\n",
    "from kmodes.kmodes import KModes\n",
    "import featuretools as ft\n",
    "from sklearn.linear_model import LinearRegression\n",
    "from sklearn.model_selection import train_test_split\n",
    "from sklearn.metrics import r2_score, mean_squared_error\n",
    "from sklearn.svm import SVR\n",
    "from sklearn.ensemble import RandomForestRegressor"
   ]
  },
  {
   "cell_type": "code",
   "execution_count": null,
   "id": "276d6aa2",
   "metadata": {
    "ExecuteTime": {
     "end_time": "2023-03-25T02:24:11.045831Z",
     "start_time": "2023-03-25T02:23:45.144120Z"
    }
   },
   "outputs": [],
   "source": [
    "!pip install kmodes"
   ]
  },
  {
   "cell_type": "code",
   "execution_count": null,
   "id": "e69bfe25",
   "metadata": {
    "ExecuteTime": {
     "end_time": "2023-03-25T03:55:32.789897Z",
     "start_time": "2023-03-25T03:53:46.512779Z"
    }
   },
   "outputs": [],
   "source": [
    "!pip install featuretools"
   ]
  },
  {
   "cell_type": "code",
   "execution_count": 3,
   "id": "9df4dbe9",
   "metadata": {
    "ExecuteTime": {
     "end_time": "2023-03-25T06:00:09.923671Z",
     "start_time": "2023-03-25T06:00:07.915154Z"
    }
   },
   "outputs": [],
   "source": [
    "df_num = pd.read_csv('my_data.tsv', sep='\\t')"
   ]
  },
  {
   "cell_type": "code",
   "execution_count": 37,
   "id": "0c9b579f",
   "metadata": {
    "ExecuteTime": {
     "end_time": "2023-03-25T02:50:52.789760Z",
     "start_time": "2023-03-25T02:50:52.704457Z"
    }
   },
   "outputs": [],
   "source": [
    "single_value_cols = df_num.columns[df_num.nunique() == 1]\n",
    "df_single_value = df_num[single_value_cols]\n",
    "df_num = df_num.drop(columns=single_value_cols)"
   ]
  },
  {
   "cell_type": "code",
   "execution_count": 38,
   "id": "8ad3d592",
   "metadata": {
    "ExecuteTime": {
     "end_time": "2023-03-25T02:50:53.606753Z",
     "start_time": "2023-03-25T02:50:53.586833Z"
    }
   },
   "outputs": [
    {
     "data": {
      "text/plain": [
       "1526"
      ]
     },
     "execution_count": 38,
     "metadata": {},
     "output_type": "execute_result"
    }
   ],
   "source": [
    "len(df_num)"
   ]
  },
  {
   "cell_type": "code",
   "execution_count": 75,
   "id": "9132cca8",
   "metadata": {
    "ExecuteTime": {
     "end_time": "2023-03-25T05:49:30.525124Z",
     "start_time": "2023-03-25T05:49:27.081278Z"
    },
    "scrolled": true
   },
   "outputs": [],
   "source": [
    "df = pd.read_csv('df_normalized.tsv', sep='\\t')"
   ]
  },
  {
   "cell_type": "code",
   "execution_count": 40,
   "id": "398469a9",
   "metadata": {
    "ExecuteTime": {
     "end_time": "2023-03-25T02:51:03.807604Z",
     "start_time": "2023-03-25T02:51:03.796619Z"
    },
    "scrolled": true
   },
   "outputs": [
    {
     "data": {
      "text/plain": [
       "2941"
      ]
     },
     "execution_count": 40,
     "metadata": {},
     "output_type": "execute_result"
    }
   ],
   "source": [
    "len(df)"
   ]
  },
  {
   "cell_type": "code",
   "execution_count": 76,
   "id": "9c5ecc77",
   "metadata": {
    "ExecuteTime": {
     "end_time": "2023-03-25T05:49:35.378674Z",
     "start_time": "2023-03-25T05:49:35.333777Z"
    },
    "scrolled": true
   },
   "outputs": [
    {
     "name": "stdout",
     "output_type": "stream",
     "text": [
      "(1526, 2051)\n"
     ]
    }
   ],
   "source": [
    "df_clear = df.dropna(subset=['ABC', 'fr_urea', 'BCUT2D_MRLOW', 'MinAbsPartialCharge', 'xlogp'])\n",
    "print(df_clear.shape)"
   ]
  },
  {
   "cell_type": "code",
   "execution_count": 42,
   "id": "f7fd4999",
   "metadata": {
    "ExecuteTime": {
     "end_time": "2023-03-25T02:51:07.433154Z",
     "start_time": "2023-03-25T02:51:07.012962Z"
    }
   },
   "outputs": [],
   "source": [
    "single_value_col = df_clear.columns[df_clear.nunique() == 1]\n",
    "df_single_value = df_clear[single_value_col]\n",
    "df_clear = df_clear.drop(columns=single_value_col)"
   ]
  },
  {
   "cell_type": "code",
   "execution_count": null,
   "id": "d5646956",
   "metadata": {
    "ExecuteTime": {
     "end_time": "2023-03-25T02:51:12.415755Z",
     "start_time": "2023-03-25T02:51:12.370907Z"
    }
   },
   "outputs": [],
   "source": [
    "pd.set_option('display.max_rows', None)\n",
    "print(df.dtypes)"
   ]
  },
  {
   "cell_type": "code",
   "execution_count": 43,
   "id": "a2e29c60",
   "metadata": {
    "ExecuteTime": {
     "end_time": "2023-03-25T02:51:09.779921Z",
     "start_time": "2023-03-25T02:51:09.760917Z"
    }
   },
   "outputs": [],
   "source": [
    "df_cat = df_clear.loc[:, ['DOI', 'Date', 'Journal', 'Title', 'Name', 'measurement_method', 'isomeric_smiles', 'specifier']]"
   ]
  },
  {
   "cell_type": "code",
   "execution_count": 44,
   "id": "2aa8a0ba",
   "metadata": {
    "ExecuteTime": {
     "end_time": "2023-03-25T02:51:10.342986Z",
     "start_time": "2023-03-25T02:51:10.333001Z"
    }
   },
   "outputs": [
    {
     "data": {
      "text/plain": [
       "(1526, 8)"
      ]
     },
     "execution_count": 44,
     "metadata": {},
     "output_type": "execute_result"
    }
   ],
   "source": [
    "df_cat.shape"
   ]
  },
  {
   "cell_type": "markdown",
   "id": "f340cfdb",
   "metadata": {},
   "source": [
    "## Clustering algorithm"
   ]
  },
  {
   "cell_type": "markdown",
   "id": "ff85d445",
   "metadata": {},
   "source": [
    "Clustering can help identifying similarities and differences between groups of compounds based on their molecular properties, which can be useful for designing new compounds or predicting the properties of unknown compounds."
   ]
  },
  {
   "cell_type": "code",
   "execution_count": 5,
   "id": "02eb7ae2",
   "metadata": {
    "ExecuteTime": {
     "end_time": "2023-03-25T01:32:57.304770Z",
     "start_time": "2023-03-25T01:32:57.294800Z"
    }
   },
   "outputs": [],
   "source": [
    "#Task: Choose one clustering algorithm suitable for your data and motivate your choice.\n",
    "#Apply it, visualize and interpret your results. "
   ]
  },
  {
   "cell_type": "markdown",
   "id": "cb407fc7",
   "metadata": {},
   "source": [
    "Based on a dataset i have, I decided to go with K-Means clustering algorithm. It works well for numeric data, and this data type is predominant. \n",
    "\n",
    "K-Means is an unsupervised learning algorithm that partitions data into k clusters, where each cluster represents a group of similar data points."
   ]
  },
  {
   "cell_type": "code",
   "execution_count": 46,
   "id": "15d8fd2f",
   "metadata": {
    "ExecuteTime": {
     "end_time": "2023-03-25T03:10:03.492059Z",
     "start_time": "2023-03-25T02:51:19.179852Z"
    }
   },
   "outputs": [
    {
     "name": "stdout",
     "output_type": "stream",
     "text": [
      "Init: initializing centroids\n",
      "Init: initializing clusters\n",
      "Starting iterations...\n",
      "Run 1, iteration: 1/100, moves: 541, cost: 431381.0\n",
      "Run 1, iteration: 2/100, moves: 406, cost: 427509.0\n",
      "Run 1, iteration: 3/100, moves: 124, cost: 426870.0\n",
      "Run 1, iteration: 4/100, moves: 101, cost: 425522.0\n",
      "Run 1, iteration: 5/100, moves: 109, cost: 425005.0\n",
      "Run 1, iteration: 6/100, moves: 31, cost: 424951.0\n",
      "Run 1, iteration: 7/100, moves: 12, cost: 424947.0\n",
      "Run 1, iteration: 8/100, moves: 1, cost: 424947.0\n",
      "Init: initializing centroids\n",
      "Init: initializing clusters\n",
      "Starting iterations...\n",
      "Run 2, iteration: 1/100, moves: 561, cost: 432945.0\n",
      "Run 2, iteration: 2/100, moves: 303, cost: 430223.0\n",
      "Run 2, iteration: 3/100, moves: 127, cost: 430134.0\n",
      "Run 2, iteration: 4/100, moves: 27, cost: 430131.0\n",
      "Run 2, iteration: 5/100, moves: 4, cost: 430129.0\n",
      "Run 2, iteration: 6/100, moves: 0, cost: 430129.0\n",
      "Init: initializing centroids\n",
      "Init: initializing clusters\n",
      "Starting iterations...\n",
      "Run 3, iteration: 1/100, moves: 651, cost: 437653.0\n",
      "Run 3, iteration: 2/100, moves: 246, cost: 436782.0\n",
      "Run 3, iteration: 3/100, moves: 173, cost: 435063.0\n",
      "Run 3, iteration: 4/100, moves: 66, cost: 434948.0\n",
      "Run 3, iteration: 5/100, moves: 36, cost: 434912.0\n",
      "Run 3, iteration: 6/100, moves: 9, cost: 434912.0\n",
      "Init: initializing centroids\n",
      "Init: initializing clusters\n",
      "Starting iterations...\n",
      "Run 4, iteration: 1/100, moves: 364, cost: 437967.0\n",
      "Run 4, iteration: 2/100, moves: 124, cost: 436586.0\n",
      "Run 4, iteration: 3/100, moves: 136, cost: 432591.0\n",
      "Run 4, iteration: 4/100, moves: 138, cost: 430384.0\n",
      "Run 4, iteration: 5/100, moves: 116, cost: 429820.0\n",
      "Run 4, iteration: 6/100, moves: 33, cost: 429816.0\n",
      "Run 4, iteration: 7/100, moves: 1, cost: 429816.0\n",
      "Init: initializing centroids\n",
      "Init: initializing clusters\n",
      "Starting iterations...\n",
      "Run 5, iteration: 1/100, moves: 592, cost: 435418.0\n",
      "Run 5, iteration: 2/100, moves: 290, cost: 433890.0\n",
      "Run 5, iteration: 3/100, moves: 52, cost: 433886.0\n",
      "Run 5, iteration: 4/100, moves: 0, cost: 433886.0\n",
      "Best run was number 1\n"
     ]
    },
    {
     "data": {
      "image/png": "[encoded data removed]",
      "text/plain": [
       "<Figure size 432x288 with 1 Axes>"
      ]
     },
     "metadata": {
      "needs_background": "light"
     },
     "output_type": "display_data"
    },
    {
     "name": "stdout",
     "output_type": "stream",
     "text": [
      "         measurement_error  measurement_method_encoded  \\\n",
      "cluster                                                  \n",
      "0                 0.008327                    0.309585   \n",
      "1                 0.010989                    0.261806   \n",
      "2                 0.005756                    0.304209   \n",
      "3                 0.002682                    0.305147   \n",
      "4                 0.011678                    0.281131   \n",
      "\n",
      "         isomeric_smiles_freq_encoded  raw_value  specifier_freq_encoded  \\\n",
      "cluster                                                                    \n",
      "0                            0.093523   0.370178                0.554925   \n",
      "1                            0.115185   0.363500                0.552818   \n",
      "2                            0.155896   0.373586                0.541236   \n",
      "3                            0.094304   0.386281                0.531917   \n",
      "4                            0.167744   0.379375                0.610215   \n",
      "\n",
      "              cid  MaxEStateIndex  MinEStateIndex  MaxAbsEStateIndex  \\\n",
      "cluster                                                                \n",
      "0        0.004964        0.399890        0.533181           0.399890   \n",
      "1        0.010172        0.475433        0.505630           0.475433   \n",
      "2        0.005689        0.507194        0.523931           0.507194   \n",
      "3        0.013086        0.517462        0.511625           0.517462   \n",
      "4        0.012554        0.505778        0.517824           0.505778   \n",
      "\n",
      "         MinAbsEStateIndex  ...     WPath      WPol   Zagreb1   Zagreb2  \\\n",
      "cluster                     ...                                           \n",
      "0                 0.116665  ...  0.009748  0.028983  0.047215  0.040287   \n",
      "1                 0.103042  ...  0.005491  0.063519  0.089615  0.081269   \n",
      "2                 0.094216  ...  0.001694  0.033482  0.048120  0.041616   \n",
      "3                 0.089075  ...  0.010748  0.034401  0.054200  0.046208   \n",
      "4                 0.071684  ...  0.006302  0.027075  0.039363  0.035579   \n",
      "\n",
      "         mZagreb2     xlogp      tpsa  exact_mass  molecular_weight  \\\n",
      "cluster                                                               \n",
      "0        0.076271  0.380398  0.043583    0.045302          0.045348   \n",
      "1        0.110234  0.377994  0.049687    0.049972          0.050029   \n",
      "2        0.079306  0.374238  0.047339    0.045254          0.045296   \n",
      "3        0.078464  0.373950  0.058215    0.055465          0.055526   \n",
      "4        0.058111  0.370885  0.053435    0.049052          0.049091   \n",
      "\n",
      "         complexity  \n",
      "cluster              \n",
      "0          0.031297  \n",
      "1          0.032532  \n",
      "2          0.034093  \n",
      "3          0.042857  \n",
      "4          0.037171  \n",
      "\n",
      "[5 rows x 785 columns]\n"
     ]
    },
    {
     "name": "stderr",
     "output_type": "stream",
     "text": [
      "C:\\Users\\bocha\\AppData\\Local\\Temp\\ipykernel_10696\\88983378.py:28: FutureWarning: The default value of numeric_only in DataFrameGroupBy.mean is deprecated. In a future version, numeric_only will default to False. Either specify numeric_only or select only columns which should be valid for the function.\n",
      "  print(df_clear.groupby('cluster').mean())\n"
     ]
    }
   ],
   "source": [
    "# Preprocess the data\n",
    "categorical_vars = df_cat.columns.values  # List of categorical variables\n",
    "numeric_vars = df_num.columns.values  # List of numeric variables\n",
    "\n",
    "# One-hot encode the categorical variables\n",
    "enc = OneHotEncoder()\n",
    "enc.fit(df_clear[categorical_vars])\n",
    "df_encoded = pd.DataFrame(enc.transform(df_clear[categorical_vars]).toarray())\n",
    "\n",
    "# Concatenate the one-hot encoded categorical variables with the numeric variables\n",
    "df_preprocessed = pd.concat([df_encoded.reset_index(drop=True), df_clear[numeric_vars].reset_index(drop=True)], axis=1)\n",
    "\n",
    "# Apply K-Modes clustering\n",
    "n_clusters = 5  # Number of clusters to generate\n",
    "km = KModes(n_clusters=n_clusters, init='Huang', n_init=5, verbose=1)\n",
    "clusters = km.fit_predict(df_preprocessed)\n",
    "\n",
    "# Visualize the results\n",
    "import matplotlib.pyplot as plt\n",
    "\n",
    "plt.hist(clusters, bins=n_clusters)\n",
    "plt.xlabel('Cluster')\n",
    "plt.ylabel('Count')\n",
    "plt.show()\n",
    "\n",
    "# Interpret the results\n",
    "df_clear['cluster'] = clusters\n",
    "print(df_clear.groupby('cluster').mean())"
   ]
  },
  {
   "cell_type": "markdown",
   "id": "1b4118eb",
   "metadata": {},
   "source": [
    "The data was divided into 5 clusters based on the combination of categorical and numeric descriptors.. The histogram shows the distribution of the data points across the clusters. The printed table shows the mean value of each variable in each cluster."
   ]
  },
  {
   "cell_type": "markdown",
   "id": "bb1b8d98",
   "metadata": {},
   "source": [
    "- Cluster 3 has the lowest mean value for 'measurement_error', indicating that compounds in this cluster have the most accurate measurements. The mean values of 'measurement_error' in clusters 0, 1, 2, and 4 are very similar, indicating that these clusters are relatively similar in terms of measurement errors.\n",
    "- Cluster 4 has the highest isomeric smiles frequency and the highest complexity.\n",
    "- Cluster 1 has the highest MaxEStateIndex and MaxAbsEStateIndex, as well as the highest molecular weight.\n",
    "- The categorical variable 'measurement_method' seems to be one of the most important descriptors for clustering, as it has the highest encoded frequency in all clusters."
   ]
  },
  {
   "cell_type": "markdown",
   "id": "975604c0",
   "metadata": {},
   "source": [
    "Overall, the KModes clustering algorithm has grouped the chemical compounds into clusters based on their categorical and numeric descriptors. The clusters seem to have some differences in the values of the numeric descriptors, which could indicate some structural similarities or differences between the chemical compounds in each cluster. These clusters could potentially be used to group similar chemical compounds together for further analysis or modeling."
   ]
  },
  {
   "cell_type": "markdown",
   "id": "0757db6e",
   "metadata": {},
   "source": [
    "## Feature engineering"
   ]
  },
  {
   "cell_type": "markdown",
   "id": "81e85a65",
   "metadata": {},
   "source": [
    "One of the most popular and powerful approach is to use the Featuretools library in Python. This library uses concepts from relational databases to automatically generate new features based on existing features."
   ]
  },
  {
   "cell_type": "code",
   "execution_count": 57,
   "id": "fddc1357",
   "metadata": {
    "ExecuteTime": {
     "end_time": "2023-03-25T04:05:47.129536Z",
     "start_time": "2023-03-25T04:05:12.378259Z"
    }
   },
   "outputs": [
    {
     "name": "stderr",
     "output_type": "stream",
     "text": [
      "C:\\Users\\bocha\\AppData\\Local\\Programs\\Python\\Python310\\lib\\site-packages\\featuretools\\entityset\\entityset.py:1906: UserWarning: index index not found in dataframe, creating new integer column\n",
      "  warnings.warn(\n",
      "C:\\Users\\bocha\\AppData\\Local\\Programs\\Python\\Python310\\lib\\site-packages\\featuretools\\synthesis\\deep_feature_synthesis.py:169: UserWarning: Only one dataframe in entityset, changing max_depth to 1 since deeper features cannot be created\n",
      "  warnings.warn(\n",
      "C:\\Users\\bocha\\AppData\\Local\\Temp\\ipykernel_10696\\2536845524.py:13: FutureWarning: The default value of numeric_only in DataFrame.corr is deprecated. In a future version, it will default to False. Select only valid columns or specify the value of numeric_only to silence this warning.\n",
      "  correlation_matrix = features.corr()\n"
     ]
    }
   ],
   "source": [
    "# Define the entity set\n",
    "entityset = ft.EntitySet(id='MyEntitySet')\n",
    "entityset.add_dataframe(dataframe_name='df_clear', dataframe=df_clear, index='index')\n",
    "\n",
    "# Run deep feature synthesis to generate new features\n",
    "features, feature_names = ft.dfs(entityset=entityset, target_dataframe_name='df_clear', max_depth=2)\n",
    "\n",
    "# Selecting features that are highly correlated with the target variable\n",
    "correlation_matrix = features.corr()\n",
    "relevant_features = correlation_matrix['raw_value'].sort_values(ascending=False)[:50].index.tolist()\n",
    "\n",
    "# Create a new dataframe with only the selected features\n",
    "df_relevant = df_clear[relevant_features]"
   ]
  },
  {
   "cell_type": "code",
   "execution_count": 58,
   "id": "58f6b18f",
   "metadata": {
    "ExecuteTime": {
     "end_time": "2023-03-25T04:06:37.017678Z",
     "start_time": "2023-03-25T04:06:36.996727Z"
    }
   },
   "outputs": [
    {
     "data": {
      "text/plain": [
       "(1526, 50)"
      ]
     },
     "execution_count": 58,
     "metadata": {},
     "output_type": "execute_result"
    }
   ],
   "source": [
    "df_relevant.shape"
   ]
  },
  {
   "cell_type": "code",
   "execution_count": 61,
   "id": "27a428e5",
   "metadata": {
    "ExecuteTime": {
     "end_time": "2023-03-25T04:08:16.216671Z",
     "start_time": "2023-03-25T04:08:16.152812Z"
    }
   },
   "outputs": [
    {
     "data": {
      "text/html": [
       "<div>\n",
       "<style scoped>\n",
       "    .dataframe tbody tr th:only-of-type {\n",
       "        vertical-align: middle;\n",
       "    }\n",
       "\n",
       "    .dataframe tbody tr th {\n",
       "        vertical-align: top;\n",
       "    }\n",
       "\n",
       "    .dataframe thead th {\n",
       "        text-align: right;\n",
       "    }\n",
       "</style>\n",
       "<table border=\"1\" class=\"dataframe\">\n",
       "  <thead>\n",
       "    <tr style=\"text-align: right;\">\n",
       "      <th></th>\n",
       "      <th>raw_value</th>\n",
       "      <th>measurement_error</th>\n",
       "      <th>Chi3v</th>\n",
       "      <th>Chi4v</th>\n",
       "      <th>complexity</th>\n",
       "      <th>Chi3n</th>\n",
       "      <th>Chi2v</th>\n",
       "      <th>exact_mass</th>\n",
       "      <th>molecular_weight</th>\n",
       "      <th>LabuteASA</th>\n",
       "      <th>HeavyAtomCount</th>\n",
       "      <th>HeavyAtomMolWt</th>\n",
       "      <th>ExactMolWt</th>\n",
       "      <th>MolWt</th>\n",
       "      <th>Chi1</th>\n",
       "      <th>specifier_freq_encoded</th>\n",
       "      <th>NumValenceElectrons</th>\n",
       "      <th>Chi0</th>\n",
       "      <th>Chi2n</th>\n",
       "      <th>MolMR</th>\n",
       "      <th>PEOE_VSA10</th>\n",
       "      <th>Chi4n</th>\n",
       "      <th>Chi0v</th>\n",
       "      <th>tpsa</th>\n",
       "      <th>Chi1v</th>\n",
       "      <th>NumAliphaticRings</th>\n",
       "      <th>Chi0n</th>\n",
       "      <th>NOCount</th>\n",
       "      <th>measurement_method_encoded</th>\n",
       "      <th>Chi1n</th>\n",
       "      <th>BertzCT</th>\n",
       "      <th>TPSA</th>\n",
       "      <th>Kappa1</th>\n",
       "      <th>NumHAcceptors</th>\n",
       "      <th>SlogP_VSA2</th>\n",
       "      <th>NumAliphaticHeterocycles</th>\n",
       "      <th>NumHDonors</th>\n",
       "      <th>PEOE_VSA1</th>\n",
       "      <th>NumHeteroatoms</th>\n",
       "      <th>NHOHCount</th>\n",
       "      <th>NumSaturatedRings</th>\n",
       "      <th>RingCount</th>\n",
       "      <th>PEOE_VSA7</th>\n",
       "      <th>EState_VSA1</th>\n",
       "      <th>VSA_EState3</th>\n",
       "      <th>SMR_VSA4</th>\n",
       "      <th>fr_COO</th>\n",
       "      <th>fr_COO2</th>\n",
       "      <th>SMR_VSA1</th>\n",
       "      <th>SlogP_VSA3</th>\n",
       "    </tr>\n",
       "  </thead>\n",
       "  <tbody>\n",
       "    <tr>\n",
       "      <th>0</th>\n",
       "      <td>0.211218</td>\n",
       "      <td>0.000000</td>\n",
       "      <td>0.000000</td>\n",
       "      <td>0.00000</td>\n",
       "      <td>0.000784</td>\n",
       "      <td>0.00000</td>\n",
       "      <td>0.006502</td>\n",
       "      <td>0.015428</td>\n",
       "      <td>0.015437</td>\n",
       "      <td>0.025492</td>\n",
       "      <td>0.024590</td>\n",
       "      <td>0.014014</td>\n",
       "      <td>0.015776</td>\n",
       "      <td>0.015784</td>\n",
       "      <td>0.024658</td>\n",
       "      <td>0.030622</td>\n",
       "      <td>0.031646</td>\n",
       "      <td>0.030287</td>\n",
       "      <td>0.012119</td>\n",
       "      <td>0.033333</td>\n",
       "      <td>0.000000</td>\n",
       "      <td>0.000000</td>\n",
       "      <td>0.035969</td>\n",
       "      <td>0.025964</td>\n",
       "      <td>0.030837</td>\n",
       "      <td>0.000000</td>\n",
       "      <td>0.035969</td>\n",
       "      <td>0.021739</td>\n",
       "      <td>0.000</td>\n",
       "      <td>0.030837</td>\n",
       "      <td>0.000462</td>\n",
       "      <td>0.026003</td>\n",
       "      <td>0.005324</td>\n",
       "      <td>0.021739</td>\n",
       "      <td>0.030936</td>\n",
       "      <td>0.000000</td>\n",
       "      <td>0.04</td>\n",
       "      <td>0.028406</td>\n",
       "      <td>0.021739</td>\n",
       "      <td>0.04</td>\n",
       "      <td>0.000000</td>\n",
       "      <td>0.00000</td>\n",
       "      <td>0.056704</td>\n",
       "      <td>0.000000</td>\n",
       "      <td>0.054867</td>\n",
       "      <td>0.000000</td>\n",
       "      <td>0.000000</td>\n",
       "      <td>0.00</td>\n",
       "      <td>0.022425</td>\n",
       "      <td>0.000000</td>\n",
       "    </tr>\n",
       "    <tr>\n",
       "      <th>1</th>\n",
       "      <td>0.425656</td>\n",
       "      <td>0.000000</td>\n",
       "      <td>0.000000</td>\n",
       "      <td>0.00000</td>\n",
       "      <td>0.008683</td>\n",
       "      <td>0.00000</td>\n",
       "      <td>0.010671</td>\n",
       "      <td>0.020327</td>\n",
       "      <td>0.020336</td>\n",
       "      <td>0.031716</td>\n",
       "      <td>0.032787</td>\n",
       "      <td>0.019616</td>\n",
       "      <td>0.020673</td>\n",
       "      <td>0.020682</td>\n",
       "      <td>0.030200</td>\n",
       "      <td>1.000000</td>\n",
       "      <td>0.037975</td>\n",
       "      <td>0.040023</td>\n",
       "      <td>0.019891</td>\n",
       "      <td>0.034769</td>\n",
       "      <td>0.000000</td>\n",
       "      <td>0.000000</td>\n",
       "      <td>0.039327</td>\n",
       "      <td>0.047943</td>\n",
       "      <td>0.027957</td>\n",
       "      <td>0.000000</td>\n",
       "      <td>0.039327</td>\n",
       "      <td>0.043478</td>\n",
       "      <td>0.000</td>\n",
       "      <td>0.027957</td>\n",
       "      <td>0.004528</td>\n",
       "      <td>0.047945</td>\n",
       "      <td>0.006241</td>\n",
       "      <td>0.021739</td>\n",
       "      <td>0.029252</td>\n",
       "      <td>0.000000</td>\n",
       "      <td>0.04</td>\n",
       "      <td>0.028406</td>\n",
       "      <td>0.043478</td>\n",
       "      <td>0.04</td>\n",
       "      <td>0.000000</td>\n",
       "      <td>0.00000</td>\n",
       "      <td>0.000000</td>\n",
       "      <td>0.018360</td>\n",
       "      <td>0.054297</td>\n",
       "      <td>0.000000</td>\n",
       "      <td>0.333333</td>\n",
       "      <td>0.25</td>\n",
       "      <td>0.043480</td>\n",
       "      <td>0.039757</td>\n",
       "    </tr>\n",
       "    <tr>\n",
       "      <th>2</th>\n",
       "      <td>0.328325</td>\n",
       "      <td>0.000000</td>\n",
       "      <td>0.000000</td>\n",
       "      <td>0.00000</td>\n",
       "      <td>0.010308</td>\n",
       "      <td>0.00000</td>\n",
       "      <td>0.027585</td>\n",
       "      <td>0.032568</td>\n",
       "      <td>0.032572</td>\n",
       "      <td>0.038067</td>\n",
       "      <td>0.040984</td>\n",
       "      <td>0.033255</td>\n",
       "      <td>0.032910</td>\n",
       "      <td>0.032913</td>\n",
       "      <td>0.034872</td>\n",
       "      <td>0.000957</td>\n",
       "      <td>0.050633</td>\n",
       "      <td>0.050346</td>\n",
       "      <td>0.017139</td>\n",
       "      <td>0.019871</td>\n",
       "      <td>0.000000</td>\n",
       "      <td>0.000000</td>\n",
       "      <td>0.049665</td>\n",
       "      <td>0.110797</td>\n",
       "      <td>0.066021</td>\n",
       "      <td>0.000000</td>\n",
       "      <td>0.034731</td>\n",
       "      <td>0.086957</td>\n",
       "      <td>0.000</td>\n",
       "      <td>0.022007</td>\n",
       "      <td>0.008342</td>\n",
       "      <td>0.110864</td>\n",
       "      <td>0.009191</td>\n",
       "      <td>0.086957</td>\n",
       "      <td>0.000000</td>\n",
       "      <td>0.000000</td>\n",
       "      <td>0.00</td>\n",
       "      <td>0.107056</td>\n",
       "      <td>0.108696</td>\n",
       "      <td>0.00</td>\n",
       "      <td>0.000000</td>\n",
       "      <td>0.00000</td>\n",
       "      <td>0.000000</td>\n",
       "      <td>0.024061</td>\n",
       "      <td>0.026660</td>\n",
       "      <td>0.000000</td>\n",
       "      <td>0.000000</td>\n",
       "      <td>0.00</td>\n",
       "      <td>0.084515</td>\n",
       "      <td>0.037854</td>\n",
       "    </tr>\n",
       "    <tr>\n",
       "      <th>3</th>\n",
       "      <td>0.314942</td>\n",
       "      <td>0.000000</td>\n",
       "      <td>0.083318</td>\n",
       "      <td>0.04083</td>\n",
       "      <td>0.156303</td>\n",
       "      <td>0.25976</td>\n",
       "      <td>0.161161</td>\n",
       "      <td>0.140243</td>\n",
       "      <td>0.140332</td>\n",
       "      <td>0.257180</td>\n",
       "      <td>0.245902</td>\n",
       "      <td>0.131764</td>\n",
       "      <td>0.140547</td>\n",
       "      <td>0.140637</td>\n",
       "      <td>0.256742</td>\n",
       "      <td>0.286124</td>\n",
       "      <td>0.243671</td>\n",
       "      <td>0.229369</td>\n",
       "      <td>0.300405</td>\n",
       "      <td>0.312015</td>\n",
       "      <td>0.138017</td>\n",
       "      <td>0.190941</td>\n",
       "      <td>0.286102</td>\n",
       "      <td>0.116838</td>\n",
       "      <td>0.318627</td>\n",
       "      <td>0.076923</td>\n",
       "      <td>0.286102</td>\n",
       "      <td>0.152174</td>\n",
       "      <td>0.125</td>\n",
       "      <td>0.318627</td>\n",
       "      <td>0.200281</td>\n",
       "      <td>0.116815</td>\n",
       "      <td>0.033841</td>\n",
       "      <td>0.152174</td>\n",
       "      <td>0.104175</td>\n",
       "      <td>0.076923</td>\n",
       "      <td>0.08</td>\n",
       "      <td>0.087820</td>\n",
       "      <td>0.152174</td>\n",
       "      <td>0.12</td>\n",
       "      <td>0.076923</td>\n",
       "      <td>0.15625</td>\n",
       "      <td>0.554816</td>\n",
       "      <td>0.000000</td>\n",
       "      <td>0.069416</td>\n",
       "      <td>0.095273</td>\n",
       "      <td>0.000000</td>\n",
       "      <td>0.00</td>\n",
       "      <td>0.020802</td>\n",
       "      <td>0.054270</td>\n",
       "    </tr>\n",
       "    <tr>\n",
       "      <th>4</th>\n",
       "      <td>0.215385</td>\n",
       "      <td>0.000191</td>\n",
       "      <td>0.000000</td>\n",
       "      <td>0.00000</td>\n",
       "      <td>0.000784</td>\n",
       "      <td>0.00000</td>\n",
       "      <td>0.006502</td>\n",
       "      <td>0.015428</td>\n",
       "      <td>0.015437</td>\n",
       "      <td>0.025492</td>\n",
       "      <td>0.024590</td>\n",
       "      <td>0.014014</td>\n",
       "      <td>0.015776</td>\n",
       "      <td>0.015784</td>\n",
       "      <td>0.024658</td>\n",
       "      <td>0.286124</td>\n",
       "      <td>0.031646</td>\n",
       "      <td>0.030287</td>\n",
       "      <td>0.012119</td>\n",
       "      <td>0.033333</td>\n",
       "      <td>0.000000</td>\n",
       "      <td>0.000000</td>\n",
       "      <td>0.035969</td>\n",
       "      <td>0.025964</td>\n",
       "      <td>0.030837</td>\n",
       "      <td>0.000000</td>\n",
       "      <td>0.035969</td>\n",
       "      <td>0.021739</td>\n",
       "      <td>0.250</td>\n",
       "      <td>0.030837</td>\n",
       "      <td>0.000462</td>\n",
       "      <td>0.026003</td>\n",
       "      <td>0.005324</td>\n",
       "      <td>0.021739</td>\n",
       "      <td>0.030936</td>\n",
       "      <td>0.000000</td>\n",
       "      <td>0.04</td>\n",
       "      <td>0.028406</td>\n",
       "      <td>0.021739</td>\n",
       "      <td>0.04</td>\n",
       "      <td>0.000000</td>\n",
       "      <td>0.00000</td>\n",
       "      <td>0.056704</td>\n",
       "      <td>0.000000</td>\n",
       "      <td>0.054867</td>\n",
       "      <td>0.000000</td>\n",
       "      <td>0.000000</td>\n",
       "      <td>0.00</td>\n",
       "      <td>0.022425</td>\n",
       "      <td>0.000000</td>\n",
       "    </tr>\n",
       "  </tbody>\n",
       "</table>\n",
       "</div>"
      ],
      "text/plain": [
       "   raw_value  measurement_error     Chi3v    Chi4v  complexity    Chi3n  \\\n",
       "0   0.211218           0.000000  0.000000  0.00000    0.000784  0.00000   \n",
       "1   0.425656           0.000000  0.000000  0.00000    0.008683  0.00000   \n",
       "2   0.328325           0.000000  0.000000  0.00000    0.010308  0.00000   \n",
       "3   0.314942           0.000000  0.083318  0.04083    0.156303  0.25976   \n",
       "4   0.215385           0.000191  0.000000  0.00000    0.000784  0.00000   \n",
       "\n",
       "      Chi2v  exact_mass  molecular_weight  LabuteASA  HeavyAtomCount  \\\n",
       "0  0.006502    0.015428          0.015437   0.025492        0.024590   \n",
       "1  0.010671    0.020327          0.020336   0.031716        0.032787   \n",
       "2  0.027585    0.032568          0.032572   0.038067        0.040984   \n",
       "3  0.161161    0.140243          0.140332   0.257180        0.245902   \n",
       "4  0.006502    0.015428          0.015437   0.025492        0.024590   \n",
       "\n",
       "   HeavyAtomMolWt  ExactMolWt     MolWt      Chi1  specifier_freq_encoded  \\\n",
       "0        0.014014    0.015776  0.015784  0.024658                0.030622   \n",
       "1        0.019616    0.020673  0.020682  0.030200                1.000000   \n",
       "2        0.033255    0.032910  0.032913  0.034872                0.000957   \n",
       "3        0.131764    0.140547  0.140637  0.256742                0.286124   \n",
       "4        0.014014    0.015776  0.015784  0.024658                0.286124   \n",
       "\n",
       "   NumValenceElectrons      Chi0     Chi2n     MolMR  PEOE_VSA10     Chi4n  \\\n",
       "0             0.031646  0.030287  0.012119  0.033333    0.000000  0.000000   \n",
       "1             0.037975  0.040023  0.019891  0.034769    0.000000  0.000000   \n",
       "2             0.050633  0.050346  0.017139  0.019871    0.000000  0.000000   \n",
       "3             0.243671  0.229369  0.300405  0.312015    0.138017  0.190941   \n",
       "4             0.031646  0.030287  0.012119  0.033333    0.000000  0.000000   \n",
       "\n",
       "      Chi0v      tpsa     Chi1v  NumAliphaticRings     Chi0n   NOCount  \\\n",
       "0  0.035969  0.025964  0.030837           0.000000  0.035969  0.021739   \n",
       "1  0.039327  0.047943  0.027957           0.000000  0.039327  0.043478   \n",
       "2  0.049665  0.110797  0.066021           0.000000  0.034731  0.086957   \n",
       "3  0.286102  0.116838  0.318627           0.076923  0.286102  0.152174   \n",
       "4  0.035969  0.025964  0.030837           0.000000  0.035969  0.021739   \n",
       "\n",
       "   measurement_method_encoded     Chi1n   BertzCT      TPSA    Kappa1  \\\n",
       "0                       0.000  0.030837  0.000462  0.026003  0.005324   \n",
       "1                       0.000  0.027957  0.004528  0.047945  0.006241   \n",
       "2                       0.000  0.022007  0.008342  0.110864  0.009191   \n",
       "3                       0.125  0.318627  0.200281  0.116815  0.033841   \n",
       "4                       0.250  0.030837  0.000462  0.026003  0.005324   \n",
       "\n",
       "   NumHAcceptors  SlogP_VSA2  NumAliphaticHeterocycles  NumHDonors  PEOE_VSA1  \\\n",
       "0       0.021739    0.030936                  0.000000        0.04   0.028406   \n",
       "1       0.021739    0.029252                  0.000000        0.04   0.028406   \n",
       "2       0.086957    0.000000                  0.000000        0.00   0.107056   \n",
       "3       0.152174    0.104175                  0.076923        0.08   0.087820   \n",
       "4       0.021739    0.030936                  0.000000        0.04   0.028406   \n",
       "\n",
       "   NumHeteroatoms  NHOHCount  NumSaturatedRings  RingCount  PEOE_VSA7  \\\n",
       "0        0.021739       0.04           0.000000    0.00000   0.056704   \n",
       "1        0.043478       0.04           0.000000    0.00000   0.000000   \n",
       "2        0.108696       0.00           0.000000    0.00000   0.000000   \n",
       "3        0.152174       0.12           0.076923    0.15625   0.554816   \n",
       "4        0.021739       0.04           0.000000    0.00000   0.056704   \n",
       "\n",
       "   EState_VSA1  VSA_EState3  SMR_VSA4    fr_COO  fr_COO2  SMR_VSA1  SlogP_VSA3  \n",
       "0     0.000000     0.054867  0.000000  0.000000     0.00  0.022425    0.000000  \n",
       "1     0.018360     0.054297  0.000000  0.333333     0.25  0.043480    0.039757  \n",
       "2     0.024061     0.026660  0.000000  0.000000     0.00  0.084515    0.037854  \n",
       "3     0.000000     0.069416  0.095273  0.000000     0.00  0.020802    0.054270  \n",
       "4     0.000000     0.054867  0.000000  0.000000     0.00  0.022425    0.000000  "
      ]
     },
     "execution_count": 61,
     "metadata": {},
     "output_type": "execute_result"
    }
   ],
   "source": [
    "pd.set_option('display.max_columns', None)\n",
    "df_relevant.head()"
   ]
  },
  {
   "cell_type": "markdown",
   "id": "1297ae76",
   "metadata": {},
   "source": [
    "Feature selection helps to identify the most important features that have the strongest relationship with the target variable, which can improve the accuracy of the model and reduce the risk of overfitting. Additionally, selecting the most important features can also help to reduce the computational cost and improve the efficiency of the model during training and prediction."
   ]
  },
  {
   "cell_type": "code",
   "execution_count": 62,
   "id": "90852afe",
   "metadata": {
    "ExecuteTime": {
     "end_time": "2023-03-25T04:19:51.765525Z",
     "start_time": "2023-03-25T04:19:50.945812Z"
    }
   },
   "outputs": [],
   "source": [
    "df_relevant.to_csv('df_relevant.tsv', sep='\\t', index=False)"
   ]
  },
  {
   "cell_type": "markdown",
   "id": "4d24d7aa",
   "metadata": {},
   "source": [
    "## ML"
   ]
  },
  {
   "cell_type": "code",
   "execution_count": 63,
   "id": "051d89d5",
   "metadata": {
    "ExecuteTime": {
     "end_time": "2023-03-25T04:28:15.390567Z",
     "start_time": "2023-03-25T04:28:14.809121Z"
    },
    "scrolled": true
   },
   "outputs": [
    {
     "name": "stdout",
     "output_type": "stream",
     "text": [
      "R-squared: 0.026\n",
      "Mean squared error: 0.067\n",
      "measurement_error: 0.884\n",
      "Chi3v: 5.229\n",
      "Chi4v: -0.398\n",
      "complexity: -0.600\n",
      "Chi3n: 1.866\n",
      "Chi2v: 2.751\n",
      "exact_mass: -230.196\n",
      "molecular_weight: 230.548\n",
      "LabuteASA: -0.351\n",
      "HeavyAtomCount: 34.109\n",
      "HeavyAtomMolWt: -52.402\n",
      "ExactMolWt: -101.343\n",
      "MolWt: 159.659\n",
      "Chi1: -19.177\n",
      "specifier_freq_encoded: 0.121\n",
      "NumValenceElectrons: -27.341\n",
      "Chi0: -4.562\n",
      "Chi2n: -3.963\n",
      "MolMR: 10.642\n",
      "PEOE_VSA10: 0.711\n",
      "Chi4n: 0.995\n",
      "Chi0v: -22.030\n",
      "tpsa: 0.501\n",
      "Chi1v: 1.640\n",
      "NumAliphaticRings: -0.031\n",
      "Chi0n: 15.182\n",
      "NOCount: -2.119\n",
      "measurement_method_encoded: 0.127\n",
      "Chi1n: -2.619\n",
      "BertzCT: -1.047\n",
      "TPSA: -0.078\n",
      "Kappa1: 41.949\n",
      "NumHAcceptors: 0.750\n",
      "SlogP_VSA2: 0.128\n",
      "NumAliphaticHeterocycles: 0.979\n",
      "NumHDonors: 1.942\n",
      "PEOE_VSA1: 1.657\n",
      "NumHeteroatoms: 4.008\n",
      "NHOHCount: -2.457\n",
      "NumSaturatedRings: -0.589\n",
      "RingCount: -0.184\n",
      "PEOE_VSA7: 0.063\n",
      "EState_VSA1: -0.460\n",
      "VSA_EState3: -0.577\n",
      "SMR_VSA4: 0.212\n",
      "fr_COO: 0.164\n",
      "fr_COO2: 0.123\n",
      "SMR_VSA1: 0.090\n",
      "SlogP_VSA3: 0.112\n"
     ]
    }
   ],
   "source": [
    "# Spliting the data into training and testing sets\n",
    "X_train, X_test, y_train, y_test = train_test_split(df_relevant.drop('raw_value', axis=1), df_relevant['raw_value'], test_size=0.2, random_state=42)\n",
    "\n",
    "# Train the model\n",
    "model = LinearRegression()\n",
    "model.fit(X_train, y_train)\n",
    "\n",
    "# Make predictions on the testing set\n",
    "y_pred = model.predict(X_test)\n",
    "\n",
    "# Calculate evaluation metrics\n",
    "r2 = r2_score(y_test, y_pred)\n",
    "mse = mean_squared_error(y_test, y_pred)\n",
    "\n",
    "print(f'R-squared: {r2:.3f}')\n",
    "print(f'Mean squared error: {mse:.3f}')\n",
    "\n",
    "# Visualize feature importances\n",
    "importances = model.coef_\n",
    "feature_names = df_relevant.drop('raw_value', axis=1).columns\n",
    "for feature_name, importance in zip(feature_names, importances):\n",
    "    print(f'{feature_name}: {importance:.3f}')\n"
   ]
  },
  {
   "cell_type": "markdown",
   "id": "1e70989b",
   "metadata": {},
   "source": [
    "The R-squared value of 0.026 indicates that the model explains only a small proportion of the variation in the target variable. The mean squared error of 0.067 indicates that the average squared difference between the predicted and actual values is 0.067. "
   ]
  },
  {
   "cell_type": "code",
   "execution_count": 65,
   "id": "376e2898",
   "metadata": {
    "ExecuteTime": {
     "end_time": "2023-03-25T04:34:57.215243Z",
     "start_time": "2023-03-25T04:34:56.999796Z"
    }
   },
   "outputs": [
    {
     "name": "stdout",
     "output_type": "stream",
     "text": [
      "R-squared: 0.100\n",
      "Mean squared error: 0.062\n"
     ]
    }
   ],
   "source": [
    "# Split the data into training and testing sets\n",
    "X = df_relevant.drop('raw_value', axis=1)\n",
    "y = df_relevant['raw_value']\n",
    "X_train, X_test, y_train, y_test = train_test_split(X, y, test_size=0.2, random_state=42)\n",
    "\n",
    "# Fit the SVR model\n",
    "svr = SVR(kernel='linear')\n",
    "svr.fit(X_train, y_train)\n",
    "\n",
    "# Evaluate the model on the testing set\n",
    "y_pred = svr.predict(X_test)\n",
    "r2 = r2_score(y_test, y_pred)\n",
    "mse = mean_squared_error(y_test, y_pred)\n",
    "print(f\"R-squared: {r2:.3f}\")\n",
    "print(f\"Mean squared error: {mse:.3f}\")"
   ]
  },
  {
   "cell_type": "markdown",
   "id": "9424aae5",
   "metadata": {},
   "source": [
    "The R-squared value of the Support Vector Regression model (0.1) is higher than the R-squared value of the Linear Regression model (0.026), indicating that the Support Vector Regression model is able to explain more of the variance in the data. Additionally, the mean squared error of the Support Vector Regression model (0.062) is lower than the mean squared error of the Linear Regression model (0.067), indicating that the Support Vector Regression model has a lower average squared error in its predictions. Overall, these results suggest that the Support Vector Regression model is a better fit for the data and is able to make more accurate predictions than the Linear Regression model."
   ]
  },
  {
   "cell_type": "code",
   "execution_count": 4,
   "id": "c9fa26f4",
   "metadata": {
    "ExecuteTime": {
     "end_time": "2023-03-25T06:01:09.284400Z",
     "start_time": "2023-03-25T06:01:08.986547Z"
    }
   },
   "outputs": [],
   "source": [
    "df_relevant = pd.read_csv('df_relevant.tsv', sep='\\t')"
   ]
  },
  {
   "cell_type": "code",
   "execution_count": 5,
   "id": "330963d2",
   "metadata": {
    "ExecuteTime": {
     "end_time": "2023-03-25T06:01:12.756776Z",
     "start_time": "2023-03-25T06:01:10.124815Z"
    }
   },
   "outputs": [
    {
     "name": "stdout",
     "output_type": "stream",
     "text": [
      "R-squared: 0.27887739357854713\n",
      "Mean squared error: 0.04985949590105546\n"
     ]
    }
   ],
   "source": [
    "# Split the data into training and testing sets\n",
    "X_train, X_test, y_train, y_test = train_test_split(df_relevant.drop('raw_value', axis=1), \n",
    "                                                    df_relevant['raw_value'], \n",
    "                                                    test_size=0.2, \n",
    "                                                    random_state=42)\n",
    "\n",
    "# Initialize and fit the model\n",
    "model = RandomForestRegressor(random_state=42)\n",
    "model.fit(X_train, y_train)\n",
    "\n",
    "# Make predictions on the test set\n",
    "y_pred = model.predict(X_test)\n",
    "\n",
    "# Evaluate the model\n",
    "r2 = r2_score(y_test, y_pred)\n",
    "mse = mean_squared_error(y_test, y_pred)\n",
    "print(\"R-squared:\", r2)\n",
    "print(\"Mean squared error:\", mse)"
   ]
  },
  {
   "cell_type": "markdown",
   "id": "b07f09de",
   "metadata": {},
   "source": [
    "The R-squared value of the Random Forest Regression model (0.279) is higher than the R-squared value of the Linear Regression model (0.026), indicating that the Random Forest Regression model is able to explain more of the variance in the data. Additionally, the mean squared error of the Random Forest Regression model (0.050) is lower than the mean squared error of the Linear Regression model (0.067), indicating that the Random Forest Regression model has a lower average squared error in its predictions. However, the R-squared value of the Random Forest Regression model is lower than the R-squared value of the Support Vector Regression model (0.1), indicating that the Support Vector Regression model is still a better fit for the data than the Random Forest Regression model."
   ]
  },
  {
   "cell_type": "code",
   "execution_count": null,
   "id": "645563d8",
   "metadata": {
    "ExecuteTime": {
     "end_time": "2023-03-25T04:52:15.418285Z",
     "start_time": "2023-03-25T04:52:05.874829Z"
    },
    "scrolled": false
   },
   "outputs": [],
   "source": [
    "#!pip install lazypredict"
   ]
  },
  {
   "cell_type": "code",
   "execution_count": 71,
   "id": "d309a11c",
   "metadata": {
    "ExecuteTime": {
     "end_time": "2023-03-25T04:52:03.672667Z",
     "start_time": "2023-03-25T04:52:03.251256Z"
    }
   },
   "outputs": [],
   "source": [
    "#df_relevant = pd.read_csv('df_relevant.tsv', sep='\\t')"
   ]
  },
  {
   "cell_type": "code",
   "execution_count": null,
   "id": "96a25067",
   "metadata": {
    "ExecuteTime": {
     "end_time": "2023-03-25T05:31:30.751780Z",
     "start_time": "2023-03-25T04:52:33.863660Z"
    }
   },
   "outputs": [],
   "source": [
    "#from lazypredict.Supervised import LazyRegressor\n",
    "#from sklearn.model_selection import train_test_split\n",
    "#from sklearn.metrics import r2_score, mean_squared_error\n",
    "\n",
    "#target_variable = 'raw_value'\n",
    "\n",
    "# Spliting data into train and test sets\n",
    "#X_train, X_test, y_train, y_test = train_test_split(df_relevant.drop(target_variable, axis=1), \n",
    "                                                    df_relevant[target_variable], \n",
    "                                                    test_size=0.2, \n",
    "                                                    random_state=42)\n",
    "\n",
    "# Initialize the LazyRegressor\n",
    "#reg = LazyRegressor(verbose=0, ignore_warnings=True, custom_metric=None)\n",
    "\n",
    "# Fit and train models\n",
    "#models, predictions = reg.fit(X_train, X_test, y_train, y_test)\n",
    "\n",
    "# Print the summary report\n",
    "#print(models)"
   ]
  }
 ],
 "metadata": {
  "kernelspec": {
   "display_name": "Python 3 (ipykernel)",
   "language": "python",
   "name": "python3"
  },
  "language_info": {
   "codemirror_mode": {
    "name": "ipython",
    "version": 3
   },
   "file_extension": ".py",
   "mimetype": "text/x-python",
   "name": "python",
   "nbconvert_exporter": "python",
   "pygments_lexer": "ipython3",
   "version": "3.10.4"
  },
  "toc": {
   "base_numbering": 1,
   "nav_menu": {},
   "number_sections": true,
   "sideBar": true,
   "skip_h1_title": false,
   "title_cell": "Table of Contents",
   "title_sidebar": "Contents",
   "toc_cell": false,
   "toc_position": {
    "height": "calc(100% - 180px)",
    "left": "10px",
    "top": "150px",
    "width": "480px"
   },
   "toc_section_display": true,
   "toc_window_display": true
  },
  "varInspector": {
   "cols": {
    "lenName": 16,
    "lenType": 16,
    "lenVar": 40
   },
   "kernels_config": {
    "python": {
     "delete_cmd_postfix": "",
     "delete_cmd_prefix": "del ",
     "library": "var_list.py",
     "varRefreshCmd": "print(var_dic_list())"
    },
    "r": {
     "delete_cmd_postfix": ") ",
     "delete_cmd_prefix": "rm(",
     "library": "var_list.r",
     "varRefreshCmd": "cat(var_dic_list()) "
    }
   },
   "types_to_exclude": [
    "module",
    "function",
    "builtin_function_or_method",
    "instance",
    "_Feature"
   ],
   "window_display": false
  }
 },
 "nbformat": 4,
 "nbformat_minor": 5
}
